{
 "cells": [
  {
   "cell_type": "code",
   "execution_count": 23,
   "id": "9a4d8208",
   "metadata": {},
   "outputs": [],
   "source": [
    "import librosa\n",
    "import soundfile as sf"
   ]
  },
  {
   "cell_type": "code",
   "execution_count": 192,
   "id": "84ed157a",
   "metadata": {},
   "outputs": [],
   "source": [
    "audio_file_path=\"speech/s13.mp3\""
   ]
  },
  {
   "cell_type": "code",
   "execution_count": 187,
   "id": "f792d026",
   "metadata": {},
   "outputs": [
    {
     "data": {
      "text/plain": [
       "146"
      ]
     },
     "execution_count": 187,
     "metadata": {},
     "output_type": "execute_result"
    }
   ],
   "source": [
    "120+26"
   ]
  },
  {
   "cell_type": "code",
   "execution_count": 193,
   "id": "419db42e",
   "metadata": {},
   "outputs": [
    {
     "data": {
      "text/plain": [
       "1168000"
      ]
     },
     "execution_count": 193,
     "metadata": {},
     "output_type": "execute_result"
    }
   ],
   "source": [
    "z=146*8000\n",
    "z"
   ]
  },
  {
   "cell_type": "code",
   "execution_count": 164,
   "id": "03ddb199",
   "metadata": {},
   "outputs": [
    {
     "data": {
      "text/plain": [
       "1096000"
      ]
     },
     "execution_count": 164,
     "metadata": {},
     "output_type": "execute_result"
    }
   ],
   "source": [
    "e=137*8000\n",
    "e"
   ]
  },
  {
   "cell_type": "code",
   "execution_count": 194,
   "id": "9ad11356",
   "metadata": {},
   "outputs": [],
   "source": [
    "data,sr=librosa.load(audio_file_path, sr=8000)"
   ]
  },
  {
   "cell_type": "code",
   "execution_count": 195,
   "id": "1ab7c9f2",
   "metadata": {},
   "outputs": [],
   "source": [
    "new_d = data[z:]"
   ]
  },
  {
   "cell_type": "code",
   "execution_count": 196,
   "id": "9cb463c3",
   "metadata": {},
   "outputs": [
    {
     "data": {
      "text/plain": [
       "'s13'"
      ]
     },
     "execution_count": 196,
     "metadata": {},
     "output_type": "execute_result"
    }
   ],
   "source": [
    "nm=audio_file_path.split(\"/\")\n",
    "nm1=nm[1].split(\".\")\n",
    "nm2=nm1[0]\n",
    "nm2"
   ]
  },
  {
   "cell_type": "code",
   "execution_count": 197,
   "id": "3577c91a",
   "metadata": {},
   "outputs": [],
   "source": [
    "sf.write(f'speech/{nm2}_pro.wav', new_d, 8000)"
   ]
  },
  {
   "cell_type": "markdown",
   "id": "24043ce3",
   "metadata": {},
   "source": [
    "### downsample"
   ]
  },
  {
   "cell_type": "code",
   "execution_count": 2,
   "id": "d3b9c2cf",
   "metadata": {},
   "outputs": [
    {
     "data": {
      "text/plain": [
       "8000"
      ]
     },
     "execution_count": 2,
     "metadata": {},
     "output_type": "execute_result"
    }
   ],
   "source": [
    "librosa.get_samplerate('ivr.wav')"
   ]
  },
  {
   "cell_type": "markdown",
   "id": "8c227334",
   "metadata": {},
   "source": [
    "- load audio file using librosa at 8000 sample rate\n",
    "- save the downsampled file"
   ]
  },
  {
   "cell_type": "code",
   "execution_count": 3,
   "id": "7ca3828d",
   "metadata": {},
   "outputs": [
    {
     "name": "stdout",
     "output_type": "stream",
     "text": [
      "8000\n"
     ]
    }
   ],
   "source": [
    "audio_file_path=r\"ivr.wav\"\n",
    "\n",
    "data,sr=librosa.load(audio_file_path, sr=8000)\n",
    "print(sr)\n",
    "\n",
    "import soundfile as sf\n",
    "sf.write('ivr-8k.wav', data, 8000)"
   ]
  },
  {
   "cell_type": "markdown",
   "id": "10178d95",
   "metadata": {},
   "source": [
    "### SOX to split file in intervals"
   ]
  },
  {
   "cell_type": "code",
   "execution_count": 221,
   "id": "e2692b4e",
   "metadata": {},
   "outputs": [],
   "source": [
    "!sox speech/s15.wav sil/si15.wav silence 1 0.1 0.5% 1 0.5 0.5% pad 0.1 0.1 : newfile : restart"
   ]
  },
  {
   "cell_type": "markdown",
   "id": "8dbf9912",
   "metadata": {},
   "source": [
    "### SOX to split file in intervals"
   ]
  },
  {
   "cell_type": "code",
   "execution_count": 222,
   "id": "699a6d1a",
   "metadata": {},
   "outputs": [
    {
     "name": "stdout",
     "output_type": "stream",
     "text": [
      "sox WARN trim: Last 1 position(s) not reached (audio shorter than expected).\r\n"
     ]
    }
   ],
   "source": [
    "! sox c.wav speech/sp.wav trim 0 1 : newfile : restart"
   ]
  },
  {
   "cell_type": "markdown",
   "id": "beaf7ae7",
   "metadata": {},
   "source": [
    "### split audio 1"
   ]
  },
  {
   "cell_type": "code",
   "execution_count": null,
   "id": "af773c07",
   "metadata": {},
   "outputs": [],
   "source": [
    "# from pydub import AudioSegment\n",
    "# import math\n",
    "\n",
    "# class SplitWavAudioMubin():\n",
    "#     def __init__(self, folder, filename):\n",
    "#         self.folder = folder\n",
    "#         self.filename = filename\n",
    "#         self.filepath = folder + '\\\\' + filename\n",
    "        \n",
    "#         self.audio = AudioSegment.from_wav(self.filepath)\n",
    "    \n",
    "#     def get_duration(self):\n",
    "#         return self.audio.duration_seconds\n",
    "    \n",
    "#     def single_split(self, from_min, to_min, split_filename):\n",
    "#         t1 = from_min * 60 * 1000\n",
    "#         t2 = to_min * 60 * 1000\n",
    "#         split_audio = self.audio[t1:t2]\n",
    "#         split_audio.export(self.folder + '\\\\' + split_filename, format=\"wav\")\n",
    "        \n",
    "#     def multiple_split(self, min_per_split):\n",
    "#         total_mins = math.ceil(self.get_duration() / 60)\n",
    "#         for i in range(0, total_mins, min_per_split):\n",
    "#             split_fn = str(i) + '_' + self.filename\n",
    "#             self.single_split(i, i+min_per_split, split_fn)\n",
    "#             print(str(i) + ' Done')\n",
    "#             if i == total_mins - min_per_split:\n",
    "#                 print('All splited successfully')\n",
    "                \n",
    "# folder = 'F:\\\\My Audios\\\\Khaled'\n",
    "# file = 'Khaled Speech.wav'\n",
    "# split_wav = SplitWavAudioMubin(folder, file)\n",
    "# split_wav.multiple_split(min_per_split=1)"
   ]
  },
  {
   "cell_type": "markdown",
   "id": "beef9654",
   "metadata": {},
   "source": [
    "### split audio 2"
   ]
  },
  {
   "cell_type": "code",
   "execution_count": null,
   "id": "796d3cb0",
   "metadata": {},
   "outputs": [],
   "source": [
    "# import soundfile as sf\n",
    "\n",
    "# audio, sr = librosa.load(file_name)\n",
    "# buffer = 2 * sr\n",
    "# samples_total = len(audio)\n",
    "# samples_wrote = 0\n",
    "# counter = 1\n",
    "\n",
    "# while samples_wrote < samples_total:\n",
    "\n",
    "#     #check if the buffer is not exceeding total samples \n",
    "#     if buffer > (samples_total - samples_wrote):\n",
    "#         buffer = samples_total - samples_wrote\n",
    "\n",
    "#     block = audio[samples_wrote : (samples_wrote + buffer)]\n",
    "#     out_filename = \"split_\" + str(counter) + \"_\" + file_name\n",
    "\n",
    "#     # Write 2 second segment\n",
    "#     sf.write(out_filename, block, sr)\n",
    "#     counter += 1\n",
    "#     samples_wrote += buffer"
   ]
  }
 ],
 "metadata": {
  "kernelspec": {
   "display_name": "Python 3 (ipykernel)",
   "language": "python",
   "name": "python3"
  },
  "language_info": {
   "codemirror_mode": {
    "name": "ipython",
    "version": 3
   },
   "file_extension": ".py",
   "mimetype": "text/x-python",
   "name": "python",
   "nbconvert_exporter": "python",
   "pygments_lexer": "ipython3",
   "version": "3.9.18"
  }
 },
 "nbformat": 4,
 "nbformat_minor": 5
}
