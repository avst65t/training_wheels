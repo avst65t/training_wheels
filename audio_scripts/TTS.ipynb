{
 "cells": [
  {
   "cell_type": "markdown",
   "id": "27f597b0",
   "metadata": {},
   "source": [
    "### extracting text column from all csv and appending\n",
    "\n",
    "- first load all csv files\n",
    "- find text column from all files and concat them in a new dataframe"
   ]
  },
  {
   "cell_type": "code",
   "execution_count": 27,
   "id": "e1ea2aa4",
   "metadata": {},
   "outputs": [],
   "source": [
    "import os\n",
    "import pandas as pd\n",
    "import re\n",
    "\n",
    "folder = 'C:/Users/seema1/Desktop/audio-classification/rsics_dataset/'\n",
    "E2 = []\n",
    "\n",
    "with os.scandir(folder) as files:\n",
    "    for file in files:\n",
    "        df = pd.read_csv(file, index_col=None)\n",
    "        if 'Text' not in df.columns:\n",
    "            print(f\"'Text' column not found in file {file.name}\")\n",
    "            continue\n",
    "        E2.append(df['Text'].apply(lambda x: re.sub('''[^0-9a-zA-Z!,&.)(:'\"?/[\\] ]''', '', str(x))))\n",
    "\n",
    "dst = pd.concat(E2, ignore_index=True)\n",
    "dst = dst.dropna()\n",
    "d = 'f.csv'\n",
    "dst.to_csv(d, encoding='utf-8', index=False)\n",
    "dst"
   ]
  },
  {
   "cell_type": "markdown",
   "id": "8898ca60",
   "metadata": {},
   "source": [
    "### gTTS- tts from dataframe"
   ]
  },
  {
   "cell_type": "code",
   "execution_count": 11,
   "id": "2e1ee9cf",
   "metadata": {},
   "outputs": [],
   "source": [
    "# !pip install gTTS"
   ]
  },
  {
   "cell_type": "markdown",
   "id": "05f48a44",
   "metadata": {},
   "source": [
    "- read csv"
   ]
  },
  {
   "cell_type": "code",
   "execution_count": null,
   "id": "460109cd",
   "metadata": {},
   "outputs": [],
   "source": [
    "ds=pd.read_csv(r'C:\\Users\\seema1\\Desktop\\audio-classification\\csv\\converted_text_csv.csv')\n",
    "ds.head(10)"
   ]
  },
  {
   "cell_type": "code",
   "execution_count": 11,
   "id": "90ea0dfb",
   "metadata": {},
   "outputs": [],
   "source": [
    "from gtts import gTTS\n",
    "import gtts\n",
    "import os"
   ]
  },
  {
   "cell_type": "code",
   "execution_count": 74,
   "id": "1b21341e",
   "metadata": {},
   "outputs": [],
   "source": [
    "for index_num,row in ds.iloc[:1000].iterrows():\n",
    "    txt=row['Text']\n",
    "    language = 'en'\n",
    "    myobj = gTTS(text=txt, lang=language, slow=False) # tld='com.au' accent\n",
    "    myobj.save(f\"synth_samples/gtts_1k/{index_num}.wav\")\n",
    "    # os.system(\"mpg321 welcome.mp3\")"
   ]
  },
  {
   "cell_type": "markdown",
   "id": "1404c4a7",
   "metadata": {},
   "source": [
    "### tts on sentence"
   ]
  },
  {
   "cell_type": "code",
   "execution_count": 12,
   "id": "81985a15",
   "metadata": {},
   "outputs": [
    {
     "name": "stdout",
     "output_type": "stream",
     "text": [
      "{'af': 'Afrikaans', 'ar': 'Arabic', 'bg': 'Bulgarian', 'bn': 'Bengali', 'bs': 'Bosnian', 'ca': 'Catalan', 'cs': 'Czech', 'da': 'Danish', 'de': 'German', 'el': 'Greek', 'en': 'English', 'es': 'Spanish', 'et': 'Estonian', 'fi': 'Finnish', 'fr': 'French', 'gu': 'Gujarati', 'hi': 'Hindi', 'hr': 'Croatian', 'hu': 'Hungarian', 'id': 'Indonesian', 'is': 'Icelandic', 'it': 'Italian', 'iw': 'Hebrew', 'ja': 'Japanese', 'jw': 'Javanese', 'km': 'Khmer', 'kn': 'Kannada', 'ko': 'Korean', 'la': 'Latin', 'lv': 'Latvian', 'ml': 'Malayalam', 'mr': 'Marathi', 'ms': 'Malay', 'my': 'Myanmar (Burmese)', 'ne': 'Nepali', 'nl': 'Dutch', 'no': 'Norwegian', 'pl': 'Polish', 'pt': 'Portuguese', 'ro': 'Romanian', 'ru': 'Russian', 'si': 'Sinhala', 'sk': 'Slovak', 'sq': 'Albanian', 'sr': 'Serbian', 'su': 'Sundanese', 'sv': 'Swedish', 'sw': 'Swahili', 'ta': 'Tamil', 'te': 'Telugu', 'th': 'Thai', 'tl': 'Filipino', 'tr': 'Turkish', 'uk': 'Ukrainian', 'ur': 'Urdu', 'vi': 'Vietnamese', 'zh-CN': 'Chinese (Simplified)', 'zh-TW': 'Chinese (Mandarin/Taiwan)', 'zh': 'Chinese (Mandarin)'}\n"
     ]
    }
   ],
   "source": [
    "a=gtts.lang.tts_langs()\n",
    "print(a)"
   ]
  },
  {
   "cell_type": "code",
   "execution_count": 13,
   "id": "4eb29d7f",
   "metadata": {},
   "outputs": [],
   "source": [
    "txt='xo till we overdose. Dont let me down inside your arms bad thoughts inside my mind when the darkness comes you are my life baby'\n",
    "language = 'en'\n",
    "myobj = gTTS(text=txt, lang=language, slow=False) # tld='com.au' australian accent\n",
    "myobj.save(\"sy5.wav\")"
   ]
  },
  {
   "cell_type": "markdown",
   "id": "c4751a72",
   "metadata": {},
   "source": [
    "### pyTTSx3"
   ]
  },
  {
   "cell_type": "code",
   "execution_count": 1,
   "id": "ea0aefe0",
   "metadata": {},
   "outputs": [],
   "source": [
    "# !pip install pyttsx3\n",
    "import pyttsx3, os"
   ]
  },
  {
   "cell_type": "code",
   "execution_count": 46,
   "id": "da3db40b",
   "metadata": {},
   "outputs": [],
   "source": [
    "engine = pyttsx3.init()\n",
    "voices = engine.getProperty('voices')\n",
    "engine.setProperty('rate', 175)\n",
    "\n",
    "c=0\n",
    "m,n=0, 500\n",
    "for voice in voices:\n",
    "    engine.setProperty('voice', voice.id)\n",
    "    for index_num,row in ds.iloc[m:n].iterrows():\n",
    "        string=row['Text']\n",
    "        path=os.getcwd()+f'\\\\dataset\\\\train_synthetic\\\\pyt\\\\pyt-{c}.wav'\n",
    "        engine.save_to_file(string, path)\n",
    "        engine.runAndWait()\n",
    "        engine.stop()\n",
    "        c+=1\n",
    "    m+=500\n",
    "    n+=500"
   ]
  },
  {
   "cell_type": "markdown",
   "id": "0f6acdd7",
   "metadata": {},
   "source": [
    "### tts on sentence"
   ]
  },
  {
   "cell_type": "code",
   "execution_count": 8,
   "id": "60a9aedf",
   "metadata": {},
   "outputs": [
    {
     "name": "stdout",
     "output_type": "stream",
     "text": [
      "/home/anush/Desktop/X/sy3.wav\n"
     ]
    }
   ],
   "source": [
    "engine = pyttsx3.init()\n",
    "engine.setProperty('rate', 150)\n",
    "\n",
    "string=\"got a sweet asian chick she got low mane, you know me, everytime you try to forget who i am\"\n",
    "path=os.getcwd()+'/sy3.wav'\n",
    "print(path)\n",
    "\n",
    "engine.save_to_file(string, path)\n",
    "engine.runAndWait()\n",
    "engine.stop()"
   ]
  },
  {
   "cell_type": "code",
   "execution_count": null,
   "id": "dee912e9",
   "metadata": {},
   "outputs": [],
   "source": []
  }
 ],
 "metadata": {
  "kernelspec": {
   "display_name": "Python 3 (ipykernel)",
   "language": "python",
   "name": "python3"
  },
  "language_info": {
   "codemirror_mode": {
    "name": "ipython",
    "version": 3
   },
   "file_extension": ".py",
   "mimetype": "text/x-python",
   "name": "python",
   "nbconvert_exporter": "python",
   "pygments_lexer": "ipython3",
   "version": "3.9.17"
  }
 },
 "nbformat": 4,
 "nbformat_minor": 5
}
