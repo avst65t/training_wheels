{
 "cells": [
  {
   "cell_type": "markdown",
   "id": "77c0b68f-57ea-41ab-87e1-cf7f68ecbfdd",
   "metadata": {},
   "source": [
    "# pip install ollama\n",
    "# !pip install nest_asyncio"
   ]
  },
  {
   "cell_type": "markdown",
   "id": "097c19a6-114f-4df5-9b23-934efda41d5a",
   "metadata": {},
   "source": [
    "## stream"
   ]
  },
  {
   "cell_type": "code",
   "execution_count": 3,
   "id": "95252f0c-2b9f-4199-b625-2407b048c37b",
   "metadata": {},
   "outputs": [
    {
     "name": "stdout",
     "output_type": "stream",
     "text": [
      "According to the provided context, the features of AutoGen are:\n",
      "\n",
      "1. **Agents that can converse with other agents**\n",
      "2. **LLM (Large Language Model) and tool use support**\n",
      "3. **Autonomous and human-in-the-loop workflows**\n",
      "4. **Multi-agent conversation patterns**\n",
      "\n",
      "These features allow developers to build AI agents and facilitate cooperation between multiple agents to solve tasks, as mentioned in the context."
     ]
    }
   ],
   "source": [
    "import ollama\n",
    "\n",
    "stream = ollama.chat(\n",
    "    model='llama3.1',\n",
    "    messages=[{'role': 'user', \n",
    "               'content': '''\n",
    "\n",
    "Context:\n",
    "\"\"\"\n",
    "AutoGen is an open-source framework from Microsoft Research that allows developers to build AI agents and \n",
    "facilitate cooperation between multiple agents to solve tasks. It provides a multi-agent conversation framework \n",
    "as a high-level abstraction, and features include: Agents that can converse with other agents, LLM and tool use support, \n",
    "Autonomous and human-in-the-loop workflows, and Multi-agent conversation patterns.\n",
    "\"\"\"\n",
    "\n",
    "based on context, tell me what are the features of autogen?\n",
    "'''}],\n",
    "    stream=True,\n",
    ")\n",
    "\n",
    "for chunk in stream:\n",
    "  print(chunk['message']['content'], end='', flush=True)"
   ]
  },
  {
   "cell_type": "markdown",
   "id": "27af4c46-bfe4-4df2-bfa0-e6e027d426bd",
   "metadata": {},
   "source": [
    "## normal inference"
   ]
  },
  {
   "cell_type": "code",
   "execution_count": null,
   "id": "ea10426e-6ed8-41bd-9c0e-c809207a0139",
   "metadata": {},
   "outputs": [],
   "source": [
    "import ollama\n",
    "\n",
    "response = ollama.chat(\n",
    "    model=\"llama3\",\n",
    "    messages=[\n",
    "        {\n",
    "            \"role\": \"user\",\n",
    "            \"content\": \"Tell me an interesting fact about python language\",\n",
    "        },\n",
    "    ],\n",
    ")\n",
    "\n",
    "print(response[\"message\"][\"content\"])"
   ]
  }
 ],
 "metadata": {
  "kernelspec": {
   "display_name": "Python 3 (ipykernel)",
   "language": "python",
   "name": "python3"
  },
  "language_info": {
   "codemirror_mode": {
    "name": "ipython",
    "version": 3
   },
   "file_extension": ".py",
   "mimetype": "text/x-python",
   "name": "python",
   "nbconvert_exporter": "python",
   "pygments_lexer": "ipython3",
   "version": "3.12.3"
  }
 },
 "nbformat": 4,
 "nbformat_minor": 5
}
