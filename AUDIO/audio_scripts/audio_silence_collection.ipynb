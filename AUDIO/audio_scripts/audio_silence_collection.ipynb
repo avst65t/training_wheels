{
 "cells": [
  {
   "cell_type": "code",
   "execution_count": 4,
   "id": "3e0cc455-55f4-4ca5-bdfa-195daf2d4c7b",
   "metadata": {},
   "outputs": [],
   "source": [
    "# !python -m pip install natsort"
   ]
  },
  {
   "cell_type": "code",
   "execution_count": 26,
   "id": "cd2b36d3-8626-4290-a35e-db683adc0878",
   "metadata": {},
   "outputs": [],
   "source": [
    "from pydub import AudioSegment\n",
    "import os\n",
    "from natsort import natsorted\n",
    "from pydub import AudioSegment,silence\n",
    "from pydub import AudioSegment, effects  \n",
    "import datetime"
   ]
  },
  {
   "cell_type": "markdown",
   "id": "c012e372-05eb-4f03-bf83-ddc79fb15895",
   "metadata": {},
   "source": [
    "### concat data"
   ]
  },
  {
   "cell_type": "code",
   "execution_count": 10,
   "id": "7290465b-3e28-47d0-b83c-ee18720bf4cb",
   "metadata": {
    "scrolled": true
   },
   "outputs": [
    {
     "name": "stdout",
     "output_type": "stream",
     "text": [
      "3\n",
      "/home/anush/Desktop/ac_new\n",
      "/home/anush/Desktop/ac_new/silence_segments\n",
      "0\n",
      "1\n",
      "2\n",
      "/home/anush/Desktop/ac_new\n"
     ]
    },
    {
     "data": {
      "text/plain": [
       "<_io.BufferedRandom name='concat/sil_xx.wav'>"
      ]
     },
     "execution_count": 10,
     "metadata": {},
     "output_type": "execute_result"
    }
   ],
   "source": [
    "dataset=\"silence_segments\"\n",
    "a=os.listdir(dataset)\n",
    "l=len(a)\n",
    "print(l)\n",
    "\n",
    "x=natsorted(a)\n",
    "x\n",
    "path=os.getcwd()\n",
    "print(path)\n",
    "\n",
    "os.makedirs(\"concat\", exist_ok=True)\n",
    "\n",
    "os.chdir(f\"{path}/{dataset}\")\n",
    "print(os.getcwd())\n",
    "\n",
    "for i in range(l):\n",
    "    print(i)\n",
    "    if i==0:\n",
    "        if (x[i].endswith('.mp3')):\n",
    "            sound1 = AudioSegment.from_mp3(x[i])\n",
    "        else:\n",
    "            sound1=AudioSegment.from_wav(x[i])\n",
    "        continue\n",
    "    else:\n",
    "        if (x[i].endswith('.mp3')):\n",
    "            sound2 = AudioSegment.from_mp3(x[i])\n",
    "        else:\n",
    "            sound2=AudioSegment.from_wav(x[i])\n",
    "\n",
    "        combined_sounds=sound1+sound2\n",
    "        sound1=combined_sounds\n",
    "\n",
    "os.chdir(f'{path}')\n",
    "print(os.getcwd())\n",
    "\n",
    "combined_sounds.export(f'concat/sil_.wav', format=\"wav\")"
   ]
  },
  {
   "cell_type": "markdown",
   "id": "3aeab7cf",
   "metadata": {},
   "source": [
    "### remove silence"
   ]
  },
  {
   "cell_type": "code",
   "execution_count": 2,
   "id": "4757b19c",
   "metadata": {},
   "outputs": [
    {
     "name": "stdout",
     "output_type": "stream",
     "text": [
      "Requirement already satisfied: pyAudioAnalysis in /home/anush/Desktop/audio_classification/env_ac/lib/python3.9/site-packages (0.3.14)\r\n"
     ]
    }
   ],
   "source": [
    "!python -m pip install pyAudioAnalysis"
   ]
  },
  {
   "cell_type": "code",
   "execution_count": 6,
   "id": "08db5562",
   "metadata": {},
   "outputs": [
    {
     "name": "stdout",
     "output_type": "stream",
     "text": [
      "/home/anush/Desktop/audio_classification/exp/speech\n"
     ]
    }
   ],
   "source": [
    "%cd speech"
   ]
  },
  {
   "cell_type": "code",
   "execution_count": 4,
   "id": "4f80cffd",
   "metadata": {},
   "outputs": [
    {
     "name": "stdout",
     "output_type": "stream",
     "text": [
      "\u001b[33mWARNING: Retrying (Retry(total=4, connect=None, read=None, redirect=None, status=None)) after connection broken by 'ReadTimeoutError(\"HTTPSConnectionPool(host='pypi.org', port=443): Read timed out. (read timeout=15)\")': /simple/plotly/\u001b[0m\u001b[33m\n",
      "\u001b[0mCollecting plotly\n",
      "  Downloading plotly-5.18.0-py3-none-any.whl.metadata (7.0 kB)\n",
      "Requirement already satisfied: tenacity>=6.2.0 in /home/anush/Desktop/audio_classification/env_ac/lib/python3.9/site-packages (from plotly) (8.2.3)\n",
      "Requirement already satisfied: packaging in /home/anush/Desktop/audio_classification/env_ac/lib/python3.9/site-packages (from plotly) (23.1)\n",
      "Downloading plotly-5.18.0-py3-none-any.whl (15.6 MB)\n",
      "\u001b[2K   \u001b[38;2;114;156;31m━━━━━━━━━━━━━━━━━━━━━━━━━━━━━━━━━━━━━━━━\u001b[0m \u001b[32m15.6/15.6 MB\u001b[0m \u001b[31m600.0 kB/s\u001b[0m eta \u001b[36m0:00:00\u001b[0mm eta \u001b[36m0:00:01\u001b[0m[36m0:00:01\u001b[0m\n",
      "\u001b[?25hInstalling collected packages: plotly\n",
      "Successfully installed plotly-5.18.0\n"
     ]
    }
   ],
   "source": [
    "!python -m pip install plotly"
   ]
  },
  {
   "cell_type": "code",
   "execution_count": 8,
   "id": "3287ecea",
   "metadata": {},
   "outputs": [
    {
     "name": "stdout",
     "output_type": "stream",
     "text": [
      "31 segments without silence saved in sil\n"
     ]
    }
   ],
   "source": [
    "from pyAudioAnalysis import audioBasicIO\n",
    "from pyAudioAnalysis import audioSegmentation\n",
    "import os\n",
    "import soundfile as sf\n",
    "\n",
    "\n",
    "# Input audio file (replace with your file path)\n",
    "audio_file = \"s1.wav\"\n",
    "\n",
    "# Output folder (replace with your desired output folder)\n",
    "output_folder = \"sil\"\n",
    "\n",
    "# Create the output folder if it doesn't exist\n",
    "os.makedirs(output_folder, exist_ok=True)\n",
    "\n",
    "# Load the audio\n",
    "[rate, signal] = audioBasicIO.read_audio_file(audio_file)\n",
    "\n",
    "# Perform silence removal\n",
    "segments = audioSegmentation.silence_removal(signal, rate, 0.05, 0.02, smooth_window=1.0, weight=0.3, plot=False)\n",
    "\n",
    "# Save the segments without silence to individual files\n",
    "for i, segment in enumerate(segments):\n",
    "    segment_path = os.path.join(output_folder, f\"segment_{i}.wav\")\n",
    "    sf.write(segment_path, segment, rate)\n",
    "\n",
    "print(f\"{len(segments)} segments without silence saved in {output_folder}\")"
   ]
  },
  {
   "cell_type": "markdown",
   "id": "82c47e7c-70bc-463c-8dd5-34cd1337b87d",
   "metadata": {},
   "source": [
    "### collect silence from concat file"
   ]
  },
  {
   "cell_type": "code",
   "execution_count": 23,
   "id": "2b2d3867-c4fc-4e0c-a22a-55ba3007a656",
   "metadata": {},
   "outputs": [
    {
     "name": "stdout",
     "output_type": "stream",
     "text": [
      "26\n",
      "['4175_8k.wav', '4484_8k.wav', '4485_8k.wav', '4490_8k.wav', '4504_8k.wav', '4520_8k.wav', '4521_8k.wav', '4522_8k.wav', '4537_8k.wav', '4543_8k.wav', '4544_8k.wav', '4547_8k.wav', '4708_8k.wav', '4745_8k.wav', '4823_8k.wav', '4874_8k.wav', '4889_8k.wav', '4984_8k.wav', '5000_8k.wav', '5051_8k.wav', '6269_8k.wav', '6285_8k.wav', '6526_8k.wav', '6561_8k.wav', '6661_8k.wav', '6750_8k.wav']\n"
     ]
    }
   ],
   "source": [
    "file_list = os.listdir(\"data\")\n",
    "sort_files=natsorted(file_list)\n",
    "print(len(sort_files))\n",
    "\n",
    "print(sort_files)"
   ]
  },
  {
   "cell_type": "code",
   "execution_count": 29,
   "id": "d52de7d1-efc6-49d9-886e-40febfe48cc2",
   "metadata": {},
   "outputs": [
    {
     "name": "stdout",
     "output_type": "stream",
     "text": [
      "4175_8k.wav [(1088.979, 1091.118)]\n",
      "4484_8k.wav [(203.055, 205.535)]\n",
      "4485_8k.wav []\n",
      "4490_8k.wav [(261.262, 263.349), (350.825, 354.389), (904.904, 907.042), (1195.904, 1200.515), (1491.82, 1495.675), (1675.577, 1682.468)]\n",
      "4504_8k.wav [(153.176, 155.197), (185.877, 190.354), (191.369, 198.111), (200.691, 204.678), (204.748, 215.29), (215.734, 221.118), (221.695, 223.9), (224.423, 226.826), (227.195, 229.354), (237.987, 240.064), (250.128, 252.551), (358.516, 362.673)]\n",
      "4520_8k.wav [(24.526, 28.564)]\n",
      "4521_8k.wav [(0.0, 2.179), (131.928, 133.951), (154.721, 156.872), (168.203, 170.289), (191.01, 194.831), (196.707, 199.361), (480.257, 482.972), (525.517, 529.957), (821.457, 827.216), (1598.631, 1600.739), (1601.365, 1603.637)]\n",
      "4522_8k.wav [(564.839, 567.092), (712.698, 714.973), (894.459, 896.668), (1442.482, 1446.039), (1750.054, 1752.32)]\n",
      "4537_8k.wav []\n",
      "4543_8k.wav []\n",
      "4544_8k.wav [(730.474, 732.503)]\n",
      "4547_8k.wav []\n",
      "4708_8k.wav [(414.655, 417.075), (821.521, 825.419), (832.793, 837.689), (839.93, 843.249), (843.982, 847.629), (847.951, 851.669), (852.904, 859.731), (864.124, 866.269), (866.814, 870.381), (870.75, 874.769), (874.986, 877.5), (1003.429, 1005.667), (1185.465, 1191.932), (1513.386, 1515.951)]\n",
      "4745_8k.wav []\n",
      "4823_8k.wav [(575.812, 579.204), (987.648, 989.783), (1182.821, 1185.63), (1480.37, 1482.965)]\n",
      "4874_8k.wav [(47.014, 49.171), (110.234, 115.377), (154.554, 156.586), (302.131, 312.176), (798.897, 801.251), (865.64, 868.117), (882.991, 885.328), (977.909, 980.316), (996.984, 999.241), (1190.175, 1193.221), (1246.647, 1248.802), (1329.033, 1331.779), (1475.517, 1478.67), (1676.961, 1680.993), (1682.223, 1687.247), (1689.879, 1692.875)]\n",
      "4889_8k.wav [(610.413, 628.011)]\n",
      "4984_8k.wav [(1179.711, 1181.887), (1184.834, 1187.627), (1198.408, 1201.082), (1623.721, 1625.966)]\n",
      "5000_8k.wav [(27.811, 30.208), (1348.934, 1374.113), (1480.838, 1484.939), (1653.3, 1655.557)]\n",
      "5051_8k.wav [(2.27, 5.798), (158.45, 160.596), (226.993, 229.036), (250.023, 252.481), (263.371, 265.677), (540.034, 542.07), (548.296, 551.503), (668.103, 671.39), (691.858, 694.458), (703.792, 707.38), (808.939, 811.982), (1011.589, 1014.302), (1044.855, 1048.198), (1472.907, 1475.163)]\n",
      "6269_8k.wav [(29.874, 32.118), (32.768, 36.857), (38.224, 44.917), (52.523, 54.552), (262.494, 265.106), (409.009, 411.127), (552.79, 555.225), (733.511, 736.025), (952.621, 956.371), (1107.389, 1109.66), (1191.708, 1193.929), (1198.426, 1201.171), (1313.559, 1317.135), (1408.645, 1410.842), (1418.548, 1421.518), (1471.943, 1474.245), (1477.298, 1479.667), (1538.695, 1540.933), (1766.788, 1769.331), (1797.376, 1799.721)]\n",
      "6285_8k.wav [(76.382, 79.869), (126.662, 128.795), (199.73, 202.071), (219.856, 224.162), (237.532, 239.674), (241.589, 244.221), (252.744, 256.556), (258.201, 260.729), (360.018, 363.644), (380.293, 382.658), (396.551, 399.415), (402.675, 405.028), (417.348, 423.148), (425.497, 427.595), (536.663, 538.938), (543.26, 546.182), (582.129, 586.618), (600.994, 603.222), (614.388, 616.91), (618.633, 620.84), (638.989, 641.032), (660.311, 662.438), (694.877, 697.32), (715.401, 718.175), (732.363, 734.412), (741.067, 743.136), (751.174, 754.934), (764.424, 770.293), (780.466, 784.134), (794.917, 797.311), (854.027, 856.622), (860.851, 864.292), (867.462, 869.812), (871.48, 877.871), (905.176, 908.177), (908.513, 910.745), (960.213, 962.701), (988.725, 992.115)]\n",
      "6526_8k.wav [(377.752, 380.029), (1546.967, 1549.285), (1743.17, 1745.61), (1751.133, 1753.724)]\n",
      "6561_8k.wav [(23.195, 25.409), (27.142, 29.193), (88.577, 90.718), (98.784, 102.642), (109.153, 111.396), (115.959, 117.975), (126.521, 131.048), (131.801, 137.24), (143.398, 146.073), (158.588, 164.676), (223.418, 225.772), (557.283, 559.521), (664.535, 667.045), (671.108, 674.647), (878.467, 881.663), (905.327, 908.301), (919.292, 921.546), (1085.115, 1088.186), (1133.801, 1135.919), (1144.569, 1149.424), (1161.472, 1164.073), (1256.693, 1259.568), (1292.657, 1295.45), (1299.56, 1302.043), (1302.831, 1306.543), (1382.366, 1386.025), (1391.354, 1397.803), (1399.742, 1401.862), (1410.855, 1417.391), (1420.445, 1422.661), (1462.474, 1465.025), (1524.957, 1528.487), (1557.277, 1560.531), (1562.069, 1565.051), (1571.198, 1573.85), (1590.791, 1592.908), (1593.639, 1596.759), (1607.646, 1610.958), (1611.565, 1613.967), (1617.779, 1626.781), (1643.237, 1647.484), (1648.732, 1650.987), (1657.977, 1666.047), (1670.988, 1674.327), (1693.386, 1697.55), (1706.168, 1710.22), (1711.217, 1714.453), (1752.581, 1756.898), (1774.624, 1777.43)]\n",
      "6661_8k.wav [(1319.205, 1321.206), (1641.622, 1643.954), (1644.099, 1646.377)]\n",
      "6750_8k.wav [(315.11, 318.816), (882.346, 884.718)]\n",
      "26\n"
     ]
    }
   ],
   "source": [
    "c=0\n",
    "for filename in sort_files:\n",
    "    c+=1\n",
    "    if os.path.isfile(os.path.join(\"data\", filename)):\n",
    "        myaudio = AudioSegment.from_file(os.path.join(\"data\", filename))\n",
    "        myaudio = myaudio.set_frame_rate(8000)\n",
    "\n",
    "        dBFS=myaudio.dBFS\n",
    "        sil = silence.detect_silence(myaudio, min_silence_len=2000, silence_thresh=dBFS-28)\n",
    "        \n",
    "        si = [((start/1000),(stop/1000)) for start,stop in sil]\n",
    "        print(filename, si)\n",
    "        \n",
    "        time_intervals = si\n",
    "        output_dir=\"silence_segments\"\n",
    "        os.makedirs(output_dir, exist_ok=True)\n",
    "        \n",
    "        for i, (start_time, end_time) in enumerate(time_intervals):\n",
    "            start_ms = int(start_time * 1000)\n",
    "            end_ms = int(end_time * 1000)\n",
    "            \n",
    "            \n",
    "            segment = myaudio[start_ms:end_ms]\n",
    "            segment.export(f\"{output_dir}/sil_28_2/silence_segment_28dbfs_{i}.wav\", format=\"wav\")\n",
    "\n",
    "print(c)"
   ]
  },
  {
   "cell_type": "code",
   "execution_count": null,
   "id": "dfa40196-6559-4a4d-8f78-b0e24c96b96c",
   "metadata": {},
   "outputs": [],
   "source": []
  },
  {
   "cell_type": "markdown",
   "id": "f9d2f02c-a853-40c1-86d1-d49cd305ab03",
   "metadata": {},
   "source": [
    "### downsample"
   ]
  },
  {
   "cell_type": "code",
   "execution_count": 15,
   "id": "8fc4992a-b9ea-46c6-bd10-08d494af231c",
   "metadata": {},
   "outputs": [],
   "source": [
    "import librosa\n",
    "import soundfile as sf\n",
    "import numpy as np\n",
    "\n",
    "file_ls = os.listdir(\"data\")\n",
    "sort_file=natsorted(file_ls)\n",
    "print(sort_file)\n",
    "\n",
    "for filename in sort_file:\n",
    "    print(filename)\n",
    "    f=filename.split(\".\")\n",
    "    print(f)\n",
    "    a=librosa.load(os.path.join(\"data\", filename), sr=8000)\n",
    "    sf.write(f\"silence_segments/{f[0]}_8k.wav\", a[0], 8000)"
   ]
  },
  {
   "cell_type": "markdown",
   "id": "fbd516c1-6416-420c-939c-fc417329450c",
   "metadata": {},
   "source": [
    "### volume normalization"
   ]
  },
  {
   "cell_type": "code",
   "execution_count": null,
   "id": "785f0c67-ba04-4e60-a2bd-59b6f15c915c",
   "metadata": {},
   "outputs": [],
   "source": []
  },
  {
   "cell_type": "code",
   "execution_count": null,
   "id": "caee3db2-602c-4a5d-9ed5-b59ae57fc22e",
   "metadata": {},
   "outputs": [],
   "source": [
    "file_list = os.listdir(\"normalize/d\")\n",
    "sort_files=natsorted(file_list)\n",
    "\n",
    "for filename in sort_files:\n",
    "    print(filename)\n",
    "    f=filename.split(\".\")\n",
    "    if os.path.isfile(os.path.join(\"normalize/d\", filename)):\n",
    "        s=datetime.datetime.now()\n",
    "        rawsound = AudioSegment.from_file(os.path.join(\"normalize/d\", filename), \"wav\")\n",
    "        normalizedsound = effects.normalize(rawsound, headroom=0.05)\n",
    "        normalizedsound.export(f\"normalize/dn/{f[0]}_n.wav\", format=\"wav\")\n",
    "        e=datetime.datetime.now()\n",
    "        print(\"time: \", e-s)"
   ]
  },
  {
   "cell_type": "code",
   "execution_count": 27,
   "id": "16365974-2c52-4629-af9b-03a081507e2f",
   "metadata": {},
   "outputs": [
    {
     "data": {
      "text/plain": [
       "<_io.BufferedRandom name='nn.wav'>"
      ]
     },
     "execution_count": 27,
     "metadata": {},
     "output_type": "execute_result"
    }
   ],
   "source": [
    "rawsound = AudioSegment.from_file(\"n.wav\", \"wav\")\n",
    "normalizedsound = effects.normalize(rawsound, headroom=0.05)\n",
    "normalizedsound.export(f\"nn.wav\", format=\"wav\")"
   ]
  },
  {
   "cell_type": "code",
   "execution_count": null,
   "id": "70b0282f-35d1-4382-b25b-480ee95e331e",
   "metadata": {},
   "outputs": [],
   "source": [
    "path='data/dataset_1sec'\n",
    "for i in sorted(os.listdir(path)):\n",
    "    os.makedirs(f\"{path}/{i}_n\", exist_ok=True)\n",
    "\n",
    "    for j in os.listdir(os.path.join(path, i)):\n",
    "        fn=j.split(\"/\")\n",
    "        fn=fn[-1].split(\".\")\n",
    "        rawsound = AudioSegment.from_file(os.path.join(path, i, j), \"wav\")\n",
    "        normalizedsound = effects.normalize(rawsound)\n",
    "        normalizedsound.export(f\"{path}/{i}_n/{fn[0]}.wav\", format=\"wav\")"
   ]
  }
 ],
 "metadata": {
  "kernelspec": {
   "display_name": "Python 3 (ipykernel)",
   "language": "python",
   "name": "python3"
  },
  "language_info": {
   "codemirror_mode": {
    "name": "ipython",
    "version": 3
   },
   "file_extension": ".py",
   "mimetype": "text/x-python",
   "name": "python",
   "nbconvert_exporter": "python",
   "pygments_lexer": "ipython3",
   "version": "3.9.18"
  }
 },
 "nbformat": 4,
 "nbformat_minor": 5
}
