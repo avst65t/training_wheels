{
 "cells": [
  {
   "cell_type": "markdown",
   "id": "4f551607",
   "metadata": {},
   "source": [
    "- import"
   ]
  },
  {
   "cell_type": "code",
   "execution_count": 1,
   "id": "bf9eeb61",
   "metadata": {},
   "outputs": [
    {
     "name": "stderr",
     "output_type": "stream",
     "text": [
      "2023-10-12 15:54:00.756557: I tensorflow/core/platform/cpu_feature_guard.cc:182] This TensorFlow binary is optimized to use available CPU instructions in performance-critical operations.\n",
      "To enable the following instructions: AVX2 FMA, in other operations, rebuild TensorFlow with the appropriate compiler flags.\n"
     ]
    }
   ],
   "source": [
    "import matplotlib.pyplot as plt\n",
    "import os, tempfile, librosa, pyaudio\n",
    "import numpy as np\n",
    "from sklearn.preprocessing import LabelEncoder\n",
    "from keras.models import load_model\n",
    "from PIL import Image\n",
    "import tensorflow as tf\n",
    "import pathlib\n",
    "from scipy import signal\n",
    "import keras.utils as image\n",
    "from pydub import AudioSegment\n",
    "from tensorflow.keras.applications.mobilenet import preprocess_input\n",
    "from tensorflow.keras.applications import MobileNetV2, VGG19\n",
    "import sounddevice as sd\n",
    "import time\n",
    "import pandas as pd"
   ]
  },
  {
   "cell_type": "markdown",
   "id": "cfa18a7a",
   "metadata": {},
   "source": [
    "- time taken to load model"
   ]
  },
  {
   "cell_type": "code",
   "execution_count": 3,
   "id": "bd3a0919",
   "metadata": {},
   "outputs": [
    {
     "name": "stderr",
     "output_type": "stream",
     "text": [
      "2023-10-12 15:58:17.834302: I tensorflow/compiler/xla/stream_executor/cuda/cuda_gpu_executor.cc:996] successful NUMA node read from SysFS had negative value (-1), but there must be at least one NUMA node, so returning NUMA node zero. See more at https://github.com/torvalds/linux/blob/v6.0/Documentation/ABI/testing/sysfs-bus-pci#L344-L355\n",
      "2023-10-12 15:58:18.304581: I tensorflow/compiler/xla/stream_executor/cuda/cuda_gpu_executor.cc:996] successful NUMA node read from SysFS had negative value (-1), but there must be at least one NUMA node, so returning NUMA node zero. See more at https://github.com/torvalds/linux/blob/v6.0/Documentation/ABI/testing/sysfs-bus-pci#L344-L355\n",
      "2023-10-12 15:58:18.305617: I tensorflow/compiler/xla/stream_executor/cuda/cuda_gpu_executor.cc:996] successful NUMA node read from SysFS had negative value (-1), but there must be at least one NUMA node, so returning NUMA node zero. See more at https://github.com/torvalds/linux/blob/v6.0/Documentation/ABI/testing/sysfs-bus-pci#L344-L355\n",
      "2023-10-12 15:58:18.311001: I tensorflow/compiler/xla/stream_executor/cuda/cuda_gpu_executor.cc:996] successful NUMA node read from SysFS had negative value (-1), but there must be at least one NUMA node, so returning NUMA node zero. See more at https://github.com/torvalds/linux/blob/v6.0/Documentation/ABI/testing/sysfs-bus-pci#L344-L355\n",
      "2023-10-12 15:58:18.312035: I tensorflow/compiler/xla/stream_executor/cuda/cuda_gpu_executor.cc:996] successful NUMA node read from SysFS had negative value (-1), but there must be at least one NUMA node, so returning NUMA node zero. See more at https://github.com/torvalds/linux/blob/v6.0/Documentation/ABI/testing/sysfs-bus-pci#L344-L355\n",
      "2023-10-12 15:58:18.312484: I tensorflow/compiler/xla/stream_executor/cuda/cuda_gpu_executor.cc:996] successful NUMA node read from SysFS had negative value (-1), but there must be at least one NUMA node, so returning NUMA node zero. See more at https://github.com/torvalds/linux/blob/v6.0/Documentation/ABI/testing/sysfs-bus-pci#L344-L355\n",
      "2023-10-12 15:58:18.379712: I tensorflow/compiler/xla/stream_executor/cuda/cuda_gpu_executor.cc:996] successful NUMA node read from SysFS had negative value (-1), but there must be at least one NUMA node, so returning NUMA node zero. See more at https://github.com/torvalds/linux/blob/v6.0/Documentation/ABI/testing/sysfs-bus-pci#L344-L355\n",
      "2023-10-12 15:58:18.379903: I tensorflow/compiler/xla/stream_executor/cuda/cuda_gpu_executor.cc:996] successful NUMA node read from SysFS had negative value (-1), but there must be at least one NUMA node, so returning NUMA node zero. See more at https://github.com/torvalds/linux/blob/v6.0/Documentation/ABI/testing/sysfs-bus-pci#L344-L355\n",
      "2023-10-12 15:58:18.380063: I tensorflow/compiler/xla/stream_executor/cuda/cuda_gpu_executor.cc:996] successful NUMA node read from SysFS had negative value (-1), but there must be at least one NUMA node, so returning NUMA node zero. See more at https://github.com/torvalds/linux/blob/v6.0/Documentation/ABI/testing/sysfs-bus-pci#L344-L355\n",
      "2023-10-12 15:58:18.380200: I tensorflow/core/common_runtime/gpu/gpu_device.cc:1635] Created device /job:localhost/replica:0/task:0/device:GPU:0 with 1751 MB memory:  -> device: 0, name: NVIDIA GeForce MX130, pci bus id: 0000:02:00.0, compute capability: 5.0\n",
      "2023-10-12 15:58:19.896299: W tensorflow/tsl/framework/cpu_allocator_impl.cc:83] Allocation of 256901120 exceeds 10% of free system memory.\n",
      "2023-10-12 15:58:21.441590: W tensorflow/tsl/framework/cpu_allocator_impl.cc:83] Allocation of 256901120 exceeds 10% of free system memory.\n",
      "2023-10-12 15:58:22.989650: W tensorflow/tsl/framework/cpu_allocator_impl.cc:83] Allocation of 256901120 exceeds 10% of free system memory.\n"
     ]
    },
    {
     "name": "stdout",
     "output_type": "stream",
     "text": [
      "load the model >>>>6.437\n"
     ]
    }
   ],
   "source": [
    "start = time.time()\n",
    "model = tf.keras.models.load_model('../models/ann_mobilenetv2_1_sec.h5')\n",
    "base_model = MobileNetV2(include_top=False, weights=\"imagenet\", input_shape=(224, 224, 3))\n",
    "if not os.path.exists(os.path.join('temp')):\n",
    "    os.mkdir(os.path.join('temp'))\n",
    "end = time.time()\n",
    "print('load the model',f'>>>>{round((end-start),4)}')"
   ]
  },
  {
   "cell_type": "markdown",
   "id": "225bade1",
   "metadata": {},
   "source": [
    "- Load the ground truth from csv"
   ]
  },
  {
   "cell_type": "code",
   "execution_count": null,
   "id": "c491233b",
   "metadata": {},
   "outputs": [],
   "source": [
    "fd = pd.read_csv('actual_label.csv')\n",
    "asd =fd['actual_label']\n",
    "asd =asd.to_list()"
   ]
  },
  {
   "cell_type": "markdown",
   "id": "732b658b",
   "metadata": {},
   "source": [
    "- This function calculates and returns time for operations like:\n",
    "\n",
    "- convert audio to spectrogram \n",
    "- Create, Render Canvas and convert to NumPy array\n",
    "- Resize the array\n",
    "- extract features from the image using mobilenetv2\n",
    "- Prediction by the model \n",
    "- total time taken for execution"
   ]
  },
  {
   "cell_type": "code",
   "execution_count": 4,
   "id": "838469c4",
   "metadata": {},
   "outputs": [],
   "source": [
    "def process_audio(aud_data, sr,count):\n",
    "    print(f'>>>>>>>>>>>>>>>>> for the {count} chunk >>>>>>>>>>>>>>>>>')\n",
    "\n",
    "#     play the audio\n",
    "#     sd.play(aud_data, sr)\n",
    "#     sd.wait()\n",
    "#     time.sleep(1.5)\n",
    "\n",
    "    strt = time.time()\n",
    "    \n",
    "    # Convert sample into spectogram\n",
    "    start = time.time()\n",
    "    fig = plt.figure()\n",
    "    ax = fig.add_subplot(1, 1, 1)\n",
    "    fig.subplots_adjust(left=0, right=1, bottom=0, top=1)\n",
    "    ms = librosa.feature.melspectrogram(y=aud_data, sr=8000)\n",
    "    log_ms = librosa.power_to_db(ms, ref=np.max)\n",
    "    librosa.display.specshow(log_ms, sr=RATE)\n",
    "    end = time.time()\n",
    "    first = end-start\n",
    "#     Create, Render Canvas and convert to NumPy array\n",
    "    start = time.time()\n",
    "    canvas = fig.canvas\n",
    "    canvas.draw()\n",
    "    width, height = canvas.get_width_height()\n",
    "    image_array = np.frombuffer(canvas.tostring_rgb(), dtype='uint8')\n",
    "    image_array = image_array.reshape(height, width, 3)\n",
    "    end = time.time()\n",
    "    second = end-start\n",
    "\n",
    "#   Resize the array\n",
    "    start = time.time()\n",
    "    image = tf.image.resize(image_array, (224,224)) \n",
    "    x = np.expand_dims(image, axis=0)\n",
    "    x = preprocess_input(np.array(x))\n",
    "    y = base_model.predict(x, verbose=False)\n",
    "    end = time.time()\n",
    "    third = end-start\n",
    "#   model prediction \n",
    "    start = time.time()\n",
    "    predictions = model.predict(y, verbose=False)\n",
    "    res = np.argmax(predictions)\n",
    "    print(class_labels[res])\n",
    "    plt.axis('off')\n",
    "    end = time.time()\n",
    "    fourth =end-start\n",
    "    \n",
    "    endd = time.time()\n",
    "    last = endd-strt\n",
    "    plt.close('all')\n",
    "    return class_labels[res],first,second,third,fourth,last"
   ]
  },
  {
   "cell_type": "markdown",
   "id": "815b5033",
   "metadata": {},
   "source": [
    "- load the audio file\n",
    "- take 2 second chunk and get the time intervals for operations\n",
    "- append the results in a list\n",
    "- repeat step 2 and 3 till the end of audio"
   ]
  },
  {
   "cell_type": "code",
   "execution_count": null,
   "id": "25d5d83d",
   "metadata": {},
   "outputs": [],
   "source": [
    "RATE = 8000\n",
    "lst =[]\n",
    "count =1\n",
    "c=0\n",
    "RATE = 8000\n",
    "class_labels = ['IVR', 'Music', 'Speech']\n",
    "audio_file=r'test_audio_1sec.wav'\n",
    "audio_data, sr = librosa.load(audio_file,sr =8000)\n",
    "\n",
    "\n",
    "while True: \n",
    "    r = 8000 * 1\n",
    "    if len(audio_data)>r:\n",
    "        audio_data1 = audio_data[:r]\n",
    "        audio_data =audio_data[r:]\n",
    "        res,first,second,third,fourth,last =process_audio(audio_data1, sr,count)\n",
    "        lst.append([asd[c],res,first,second,third,fourth,last])\n",
    "        count+=1\n",
    "        c+=1\n",
    "    else:\n",
    "        res,first,second,third,fourth,last =process_audio(audio_data, sr,count)\n",
    "        lst.append([asd[c],res,first,second,third,fourth,last])\n",
    "        break"
   ]
  },
  {
   "cell_type": "markdown",
   "id": "a64b24e7",
   "metadata": {},
   "source": [
    "- convert the list to dataframe with column names"
   ]
  },
  {
   "cell_type": "code",
   "execution_count": 27,
   "id": "e518803b",
   "metadata": {},
   "outputs": [],
   "source": [
    "data =pd.DataFrame(lst,columns =['actual','predicted','audio to spectogram','convert to array','Resize the array','model prediction','total_time'])"
   ]
  },
  {
   "cell_type": "code",
   "execution_count": null,
   "id": "01006285",
   "metadata": {},
   "outputs": [],
   "source": [
    "data"
   ]
  },
  {
   "cell_type": "markdown",
   "id": "6fd63c7c",
   "metadata": {},
   "source": [
    "- export the dataframe results to CSV"
   ]
  },
  {
   "cell_type": "code",
   "execution_count": 26,
   "id": "60db72dc",
   "metadata": {},
   "outputs": [],
   "source": [
    "data.to_csv('results/preprocessing_time_reduce_io_1sec.csv')"
   ]
  }
 ],
 "metadata": {
  "kernelspec": {
   "display_name": "Python 3 (ipykernel)",
   "language": "python",
   "name": "python3"
  },
  "language_info": {
   "codemirror_mode": {
    "name": "ipython",
    "version": 3
   },
   "file_extension": ".py",
   "mimetype": "text/x-python",
   "name": "python",
   "nbconvert_exporter": "python",
   "pygments_lexer": "ipython3",
   "version": "3.9.18"
  }
 },
 "nbformat": 4,
 "nbformat_minor": 5
}
