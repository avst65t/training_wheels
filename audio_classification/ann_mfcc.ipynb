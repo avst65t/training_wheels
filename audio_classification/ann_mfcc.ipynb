{
 "cells": [
  {
   "cell_type": "markdown",
   "id": "4a675793",
   "metadata": {},
   "source": [
    "Here, ANN model is trained on mfcc features calculated using librosa library."
   ]
  },
  {
   "cell_type": "markdown",
   "id": "8f391ee8",
   "metadata": {},
   "source": [
    "- Following are necessary imports:"
   ]
  },
  {
   "cell_type": "code",
   "execution_count": 1,
   "id": "decec2ce",
   "metadata": {},
   "outputs": [],
   "source": [
    "# !pip install librosa\n",
    "# !pip install tqdm\n",
    "# !python -m pip install livelossplot\n",
    "import librosa\n",
    "import matplotlib.pyplot as plt\n",
    "from scipy.io import wavfile as wav\n",
    "import pandas as pd\n",
    "import os, pathlib, sys\n",
    "import numpy as np\n",
    "from tqdm import tqdm\n",
    "from tensorflow.keras.utils import to_categorical\n",
    "from sklearn.preprocessing import LabelEncoder\n",
    "from sklearn.model_selection import train_test_split\n",
    "import tensorflow as tf\n",
    "from tensorflow.keras.models import Sequential\n",
    "from tensorflow.keras.layers import Dense,Dropout,Activation,Flatten\n",
    "from tensorflow.keras.optimizers import Adam\n",
    "from sklearn import metrics\n",
    "from tensorflow.keras.callbacks import ModelCheckpoint\n",
    "from datetime import datetime\n",
    "import seaborn as sns\n",
    "from keras.models import load_model\n",
    "from sklearn.metrics import accuracy_score, precision_score, recall_score, f1_score, roc_auc_score, confusion_matrix, classification_report\n",
    "# from sklearn.metrics import multilabel_confusion_matrix\n",
    "from IPython import display\n",
    "from livelossplot import PlotLossesKeras"
   ]
  },
  {
   "cell_type": "markdown",
   "id": "85dc1049",
   "metadata": {},
   "source": [
    "### Place your dataset in the dataset directory in the following format:\n",
    "\n",
    "- Copy the dataset from data directory\n",
    "- data contains data that is of 2/3/5 seconds interval. Choose the dataset of particular interval of interest.\n",
    "- E.g. if you want to train the model on 2 seconds interval data, copy directories from 'data_2_sec' and place it in dataset folder in following format:\n",
    "\n",
    "dataset\n",
    "\n",
    "    |-IVR\n",
    "        |-ivr.wav\n",
    "        |-ivr1.wav\n",
    "        |-ivr2.wav\n",
    "        |.........\n",
    "\n",
    "    |-Music\n",
    "        |-music.wav\n",
    "        |-music1.wav\n",
    "        |-music2.wav\n",
    "        |.........\n",
    "\n",
    "    |-Speech\n",
    "        |-speech.wav\n",
    "        |-speech2.wav\n",
    "        |-speech3.wav\n",
    "        |........."
   ]
  },
  {
   "cell_type": "markdown",
   "id": "30c8f6e5",
   "metadata": {},
   "source": [
    "### Feature extraction"
   ]
  },
  {
   "cell_type": "markdown",
   "id": "49c200c1",
   "metadata": {},
   "source": [
    "#### file names and their labels\n",
    "\n",
    "- in the first iteration we iterate through directories in the dataset folder and get the labels\n",
    "- in the second iteration we get the file name and append it in one list\n",
    "- the other list contains label for that file\n",
    "- a dataframe is created, both lists are passed to it and then saved"
   ]
  },
  {
   "cell_type": "code",
   "execution_count": null,
   "id": "378b3e03",
   "metadata": {},
   "outputs": [],
   "source": [
    "file_path=os.path.join(os.getcwd(),'dataset/')\n",
    "\n",
    "lst1 = []\n",
    "lst2 = []\n",
    "for path, subdir, file in os.walk(file_path):\n",
    "    for label in subdir:\n",
    "        for path, subdir, file in os.walk(os.path.join(file_path,label)):\n",
    "            for name in file:\n",
    "                lst1.append(name)\n",
    "                lst2.append(label)\n",
    "df = pd.DataFrame(zip(lst1, lst2), columns = ['file_name', 'label'])\n",
    "print(df)"
   ]
  },
  {
   "cell_type": "code",
   "execution_count": 4,
   "id": "e59f48ed",
   "metadata": {},
   "outputs": [],
   "source": [
    "df.to_csv('file_labels_3.csv', encoding='utf-8', index=False)"
   ]
  },
  {
   "cell_type": "markdown",
   "id": "9819ed6f",
   "metadata": {},
   "source": [
    "#### mfcc feature extraction\n",
    "\n",
    "- the dataframe created in the previous step contains file path for each file in the directory and label respectively"
   ]
  },
  {
   "cell_type": "code",
   "execution_count": null,
   "id": "liberal-journalist",
   "metadata": {},
   "outputs": [],
   "source": [
    "audio_dataset_path=os.path.join(os.getcwd(), 'dataset')\n",
    "print(audio_dataset_path)"
   ]
  },
  {
   "cell_type": "markdown",
   "id": "ef3d8f66",
   "metadata": {},
   "source": [
    "- this function accepts the filepath in the argument and calculates mfcc for the audio, scales it and returns it"
   ]
  },
  {
   "cell_type": "code",
   "execution_count": 6,
   "id": "chinese-calendar",
   "metadata": {},
   "outputs": [],
   "source": [
    " def features_extractor(file):\n",
    "    audio, sample_rate = librosa.load(file_name, sr=8000, res_type='kaiser_fast')\n",
    "    print(sample_rate)\n",
    "    mfccs_features = librosa.feature.mfcc(y=audio, sr=sample_rate, n_mfcc=50)\n",
    "    mfccs_scaled_features = np.mean(mfccs_features.T,axis=0)\n",
    "    return mfccs_scaled_features"
   ]
  },
  {
   "cell_type": "markdown",
   "id": "7911f3eb",
   "metadata": {},
   "source": [
    "- the dataframe has filepath for the audio. it iterates over rows and the calculated mfcc features along with labels are appended in the extracted_features list"
   ]
  },
  {
   "cell_type": "code",
   "execution_count": null,
   "id": "nuclear-sponsorship",
   "metadata": {
    "scrolled": true
   },
   "outputs": [],
   "source": [
    "extracted_features=[]\n",
    "for index_num,row in tqdm(df.iterrows()):\n",
    "    file_name = os.path.join(os.path.abspath(audio_dataset_path), str(row['label'])+'\\\\'+str(row['file_name']))\n",
    "    final_class_labels=row[\"label\"]\n",
    "    data=features_extractor(file_name)\n",
    "    extracted_features.append([data,final_class_labels])"
   ]
  },
  {
   "cell_type": "markdown",
   "id": "10db8155",
   "metadata": {},
   "source": [
    "- the list is then converted into dataframe"
   ]
  },
  {
   "cell_type": "code",
   "execution_count": null,
   "id": "acoustic-wagner",
   "metadata": {},
   "outputs": [],
   "source": [
    "extracted_features_df=pd.DataFrame(extracted_features,columns=['features','class'])\n",
    "extracted_features_df.head()"
   ]
  },
  {
   "cell_type": "code",
   "execution_count": 9,
   "id": "e16fc164",
   "metadata": {},
   "outputs": [],
   "source": [
    "extracted_features_df.to_csv('extracted_features.csv', encoding='utf-8', index=False)"
   ]
  },
  {
   "cell_type": "markdown",
   "id": "6f90b5e5",
   "metadata": {},
   "source": [
    "- the dataframe columns are then converted to numpy array"
   ]
  },
  {
   "cell_type": "code",
   "execution_count": 11,
   "id": "characteristic-sudan",
   "metadata": {},
   "outputs": [],
   "source": [
    "X=np.array(extracted_features_df['features'].tolist())\n",
    "y=np.array(extracted_features_df['class'].tolist())"
   ]
  },
  {
   "cell_type": "code",
   "execution_count": null,
   "id": "friendly-placement",
   "metadata": {},
   "outputs": [],
   "source": [
    "X.shape"
   ]
  },
  {
   "cell_type": "code",
   "execution_count": null,
   "id": "6993229a",
   "metadata": {},
   "outputs": [],
   "source": [
    "y.shape"
   ]
  },
  {
   "cell_type": "markdown",
   "id": "6a14e14c",
   "metadata": {},
   "source": [
    "- label encoding, to encode the labels"
   ]
  },
  {
   "cell_type": "code",
   "execution_count": 15,
   "id": "wired-church",
   "metadata": {},
   "outputs": [],
   "source": [
    "labelencoder=LabelEncoder()\n",
    "y=to_categorical(labelencoder.fit_transform(y))"
   ]
  },
  {
   "cell_type": "markdown",
   "id": "2fabdcae",
   "metadata": {},
   "source": [
    "- train test split the dataset in 70:30 ratio"
   ]
  },
  {
   "cell_type": "code",
   "execution_count": 17,
   "id": "documentary-priority",
   "metadata": {},
   "outputs": [],
   "source": [
    "X_train,X_test,y_train,y_test=train_test_split(X,y,test_size=0.30, shuffle=True, random_state=0)"
   ]
  },
  {
   "cell_type": "code",
   "execution_count": null,
   "id": "flexible-lithuania",
   "metadata": {},
   "outputs": [],
   "source": [
    "X_train.shape"
   ]
  },
  {
   "cell_type": "code",
   "execution_count": null,
   "id": "instrumental-equity",
   "metadata": {},
   "outputs": [],
   "source": [
    "X_test.shape"
   ]
  },
  {
   "cell_type": "code",
   "execution_count": null,
   "id": "chemical-vermont",
   "metadata": {},
   "outputs": [],
   "source": [
    "y_train.shape"
   ]
  },
  {
   "cell_type": "code",
   "execution_count": null,
   "id": "governing-natural",
   "metadata": {},
   "outputs": [],
   "source": [
    "y_test.shape"
   ]
  },
  {
   "cell_type": "markdown",
   "id": "express-vessel",
   "metadata": {},
   "source": [
    "### Model Creation & Training"
   ]
  },
  {
   "cell_type": "code",
   "execution_count": 153,
   "id": "valuable-substitute",
   "metadata": {},
   "outputs": [],
   "source": [
    "num_labels=y.shape[1]"
   ]
  },
  {
   "cell_type": "markdown",
   "id": "b4156f64",
   "metadata": {},
   "source": [
    "- sequential model is created with adam optimizer and categorical cross entropy as there are more than 2 classes"
   ]
  },
  {
   "cell_type": "code",
   "execution_count": null,
   "id": "found-outside",
   "metadata": {},
   "outputs": [],
   "source": [
    "model=Sequential()\n",
    "\n",
    "model.add(Dense(100,input_shape=(50,)))\n",
    "model.add(Activation('relu'))\n",
    "model.add(Dropout(0.5))\n",
    "\n",
    "model.add(Dense(200))\n",
    "model.add(Activation('relu'))\n",
    "model.add(Dropout(0.5))\n",
    "\n",
    "model.add(Dense(100))\n",
    "model.add(Activation('relu'))\n",
    "model.add(Dropout(0.5))\n",
    "\n",
    "model.add(Dense(num_labels))\n",
    "model.add(Activation('softmax'))\n",
    "\n",
    "model.summary()\n",
    "model.compile(loss='categorical_crossentropy',metrics=['accuracy'],optimizer='adam')"
   ]
  },
  {
   "cell_type": "markdown",
   "id": "2d851b05",
   "metadata": {},
   "source": [
    "- model is trained using 100 epochs, batch size 32, early stopping with patience of 10"
   ]
  },
  {
   "cell_type": "code",
   "execution_count": null,
   "id": "alpha-adapter",
   "metadata": {},
   "outputs": [],
   "source": [
    "num_epochs = 100\n",
    "num_batch_size = 32\n",
    "cb = tf.keras.callbacks.EarlyStopping(monitor='val_accuracy', patience=10)\n",
    "checkpointer = ModelCheckpoint(filepath='ann_mfcc.hdf5',\n",
    "                               verbose=1, save_best_only=True)\n",
    "start = datetime.now()\n",
    "\n",
    "hist=model.fit(X_train, y_train, batch_size=num_batch_size, epochs=num_epochs, \n",
    "          validation_data=(X_test, y_test), callbacks=[PlotLossesKeras(), checkpointer, cb], verbose=1)\n",
    "\n",
    "duration = datetime.now() - start\n",
    "print(\"Training completed in time: \", duration)"
   ]
  },
  {
   "cell_type": "markdown",
   "id": "bafa9c07",
   "metadata": {},
   "source": [
    "- after training, loss, validation loss, accuracy, validation accuracy are plotted"
   ]
  },
  {
   "cell_type": "code",
   "execution_count": null,
   "id": "b03ca7a3",
   "metadata": {},
   "outputs": [],
   "source": [
    "plt.figure(0)\n",
    "plt.plot(hist.history['loss'],'g', label=\"Loss\")\n",
    "plt.plot(hist.history['val_loss'],'b',label=\"Validation Loss\")\n",
    "plt.plot(hist.history['accuracy'],'r', label=\"Accuracy\")\n",
    "plt.plot(hist.history['val_accuracy'],'black', label=\"Validation Accuracy\")\n",
    "plt.legend()\n",
    "plt.show()"
   ]
  },
  {
   "cell_type": "markdown",
   "id": "f4d2fa60",
   "metadata": {},
   "source": [
    "### Model Evaluation"
   ]
  },
  {
   "cell_type": "markdown",
   "id": "401a938e",
   "metadata": {},
   "source": [
    "- test accuracy is calculated"
   ]
  },
  {
   "cell_type": "code",
   "execution_count": null,
   "id": "virgin-butter",
   "metadata": {},
   "outputs": [],
   "source": [
    "test_accuracy=model.evaluate(X_test,y_test,verbose=0)\n",
    "print(test_accuracy[1])"
   ]
  },
  {
   "cell_type": "markdown",
   "id": "b021daa2",
   "metadata": {},
   "source": [
    "- model predicts X_test set for evaluation"
   ]
  },
  {
   "cell_type": "code",
   "execution_count": null,
   "id": "intensive-conservative",
   "metadata": {},
   "outputs": [],
   "source": [
    "predict_x=model.predict(X_test)\n",
    "y_pred=np.argmax(predict_x,axis=1)\n",
    "y_pred.shape"
   ]
  },
  {
   "cell_type": "code",
   "execution_count": null,
   "id": "a0f29675",
   "metadata": {},
   "outputs": [],
   "source": [
    "y_test_arg=np.argmax(y_test,axis=1)\n",
    "y_test_arg.shape"
   ]
  },
  {
   "cell_type": "code",
   "execution_count": 46,
   "id": "28a03a89",
   "metadata": {},
   "outputs": [],
   "source": [
    "prediction_class = labelencoder.inverse_transform(y_pred)"
   ]
  },
  {
   "cell_type": "markdown",
   "id": "0b4c0e68",
   "metadata": {},
   "source": [
    "- calculate accuracy, precision, recall, F1 score"
   ]
  },
  {
   "cell_type": "code",
   "execution_count": null,
   "id": "1be5fdbb",
   "metadata": {},
   "outputs": [],
   "source": [
    "accuracy = accuracy_score(y_test_arg, y_pred)\n",
    "precision = precision_score(y_test_arg, y_pred, average='weighted')\n",
    "recall = recall_score(y_test_arg, y_pred, average='weighted')\n",
    "f1 = f1_score(y_test_arg, y_pred, average='weighted')\n",
    "\n",
    "print('Accuracy:', accuracy)\n",
    "print('Precision:', precision)\n",
    "print('Recall:', recall)\n",
    "print('F1-score:', f1)"
   ]
  },
  {
   "cell_type": "markdown",
   "id": "7db61131",
   "metadata": {},
   "source": [
    "#### confusion matrix"
   ]
  },
  {
   "cell_type": "code",
   "execution_count": null,
   "id": "47376ad7",
   "metadata": {},
   "outputs": [],
   "source": [
    "# FROM GIT\n",
    "\n",
    "# from sklearn.metrics import confusion_matrix\n",
    "# import seaborn as sns\n",
    "# sns.set()\n",
    "\n",
    "# y_predicted = model.predict(test_features)\n",
    "# mat = confusion_matrix(y_test_encoded.argmax(axis=1), y_predicted.argmax(axis=1))\n",
    "# class_labels = ['background', 'chainsaw', 'engine', 'storm']\n",
    "\n",
    "# sns.heatmap(mat, square=True, annot=True, fmt='d', cbar=False, cmap='Blues',\n",
    "#             xticklabels=class_labels,\n",
    "#             yticklabels=class_labels)\n",
    "\n",
    "# plt.xlabel('Predicted label')\n",
    "# plt.ylabel('Actual label')"
   ]
  },
  {
   "cell_type": "markdown",
   "id": "5d7ad759",
   "metadata": {},
   "source": [
    "- plot confusion matrix"
   ]
  },
  {
   "cell_type": "code",
   "execution_count": null,
   "id": "333d8f15",
   "metadata": {},
   "outputs": [],
   "source": [
    "cm = confusion_matrix(y_test_arg, y_pred)\n",
    "print('Confusion matrix:\\n', cm)\n",
    "\n",
    "group_counts = [\"{0:0.0f}\".format(value) for value in\n",
    "                cm.flatten()]\n",
    "group_percentages = [\"{0:.2%}\".format(value) for value in\n",
    "                     cm.flatten()/np.sum(cm)]\n",
    "\n",
    "labels = [f\"{v1}\\n{v2}\" for v1, v2 in zip(group_counts,group_percentages)]\n",
    "labels = np.asarray(labels).reshape(3,3)\n",
    "\n",
    "ht=sns.heatmap(cm, annot=labels, fmt='', cmap='Blues')\n",
    "ht.set_xticklabels(['Music', 'Speech', 'Synthetic Voice'])\n",
    "ht.set_yticklabels(['Music', 'Speech', 'Synthetic Voice'])\n",
    "\n",
    "plt.xlabel(\"Actual\")\n",
    "plt.ylabel(\"Predicted\")\n",
    "plt.show()\n",
    "\n",
    "# cm_display = metrics.ConfusionMatrixDisplay(confusion_matrix = cm, display_labels = [False, True])\n",
    "# cm_display.plot()\n",
    "# plt.show()"
   ]
  },
  {
   "cell_type": "markdown",
   "id": "0c62ac43",
   "metadata": {},
   "source": [
    "#### ROC AUC curve"
   ]
  },
  {
   "cell_type": "code",
   "execution_count": null,
   "id": "93eb85bc",
   "metadata": {},
   "outputs": [],
   "source": [
    "y_proba = model.predict(X_test)\n",
    "y_proba.shape"
   ]
  },
  {
   "cell_type": "code",
   "execution_count": null,
   "id": "0dc4bd32",
   "metadata": {},
   "outputs": [],
   "source": [
    "y_test.shape"
   ]
  },
  {
   "cell_type": "code",
   "execution_count": null,
   "id": "17f860ef",
   "metadata": {},
   "outputs": [],
   "source": [
    "fpr_list = []\n",
    "tpr_list = []\n",
    "threshold_list = []\n",
    "roc_auc_list = []\n",
    "\n",
    "for i in range(3):\n",
    "    false_positive_rate, true_positive_rate, threshold = metrics.roc_curve(y_test[:, i], y_proba[:, i])\n",
    "    plt.plot(false_positive_rate, true_positive_rate, label=\"data 1, auc=\"+str(auc))\n",
    "    plt.legend(loc=4)\n",
    "    plt.show()\n",
    "\n",
    "    plt.figure(figsize=(10, 8), dpi=100)\n",
    "    plt.axis('scaled')\n",
    "    plt.xlim([0, 1])\n",
    "    plt.ylim([0, 1])\n",
    "    plt.title(\"AUC & ROC Curve\")\n",
    "    plt.plot(false_positive_rate, true_positive_rate, 'g')\n",
    "    plt.fill_between(false_positive_rate, true_positive_rate, facecolor='lightgreen', alpha=0.7)\n",
    "    plt.text(0.95, 0.05, 'AUC = %0.4f' % auc, ha='right', fontsize=12, weight='bold', color='blue')\n",
    "    plt.xlabel(\"False Positive Rate\")\n",
    "    plt.ylabel(\"True Positive Rate\")\n",
    "    plt.show()"
   ]
  },
  {
   "cell_type": "code",
   "execution_count": 132,
   "id": "3fc399e1",
   "metadata": {
    "scrolled": false
   },
   "outputs": [
    {
     "data": {
      "image/png": "[encoded data removed]",
      "text/plain": [
       "<Figure size 640x480 with 1 Axes>"
      ]
     },
     "metadata": {},
     "output_type": "display_data"
    },
    {
     "data": {
      "image/png": "[encoded data removed]",
      "text/plain": [
       "<Figure size 640x480 with 1 Axes>"
      ]
     },
     "metadata": {},
     "output_type": "display_data"
    },
    {
     "data": {
      "image/png": "[encoded data removed]",
      "text/plain": [
       "<Figure size 640x480 with 1 Axes>"
      ]
     },
     "metadata": {},
     "output_type": "display_data"
    }
   ],
   "source": [
    "fpr_list = []\n",
    "tpr_list = []\n",
    "threshold_list = []\n",
    "roc_auc_list = []\n",
    "lab=['Music', 'Speech', 'Synthetic Voice']\n",
    "\n",
    "for i in range(3):\n",
    "    fpr, tpr, threshold = metrics.roc_curve(y_test[:, i], y_proba[:, i])\n",
    "    roc_auc = metrics.auc(fpr, tpr)\n",
    "    \n",
    "    fpr_list.append(fpr)\n",
    "    tpr_list.append(tpr)\n",
    "    threshold_list.append(threshold)\n",
    "    roc_auc_list.append(roc_auc)\n",
    "    \n",
    "for j in range(len(fpr_list)):\n",
    "    false_positive_rate, true_positive_rate, threshold = fpr_list[j], tpr_list[j], threshold_list[j]\n",
    "    plt.title(\"AUC & ROC Curve of \" + lab[j])\n",
    "    plt.plot(false_positive_rate, true_positive_rate, 'g')\n",
    "    plt.fill_between(false_positive_rate, true_positive_rate, facecolor='lightgreen', alpha=0.7)\n",
    "    plt.text(0.95, 0.05, 'AUC = %0.4f' % roc_auc_list[j], ha='right', fontsize=12, weight='bold', color='blue')\n",
    "    plt.xlabel(\"False Positive Rate\")\n",
    "    plt.ylabel(\"True Positive Rate\")\n",
    "    plt.show()"
   ]
  },
  {
   "cell_type": "code",
   "execution_count": null,
   "id": "bb9d1acb",
   "metadata": {},
   "outputs": [],
   "source": [
    "auc = roc_auc_score(y_test_cat, y_proba, multi_class='ovr', average='weighted')\n",
    "print('ROC AUC score:', auc)"
   ]
  },
  {
   "cell_type": "markdown",
   "id": "0e946fec",
   "metadata": {},
   "source": [
    "### classification report"
   ]
  },
  {
   "cell_type": "code",
   "execution_count": 135,
   "id": "4c633f9a",
   "metadata": {},
   "outputs": [],
   "source": [
    "cr=classification_report(y_test_arg, y_pred, target_names=['Music', 'Speech', 'Synthetic Voice'], output_dict=True)"
   ]
  },
  {
   "cell_type": "code",
   "execution_count": 137,
   "id": "316ba3fb",
   "metadata": {},
   "outputs": [
    {
     "data": {
      "text/html": [
       "<div>\n",
       "<style scoped>\n",
       "    .dataframe tbody tr th:only-of-type {\n",
       "        vertical-align: middle;\n",
       "    }\n",
       "\n",
       "    .dataframe tbody tr th {\n",
       "        vertical-align: top;\n",
       "    }\n",
       "\n",
       "    .dataframe thead th {\n",
       "        text-align: right;\n",
       "    }\n",
       "</style>\n",
       "<table border=\"1\" class=\"dataframe\">\n",
       "  <thead>\n",
       "    <tr style=\"text-align: right;\">\n",
       "      <th></th>\n",
       "      <th>Music</th>\n",
       "      <th>Speech</th>\n",
       "      <th>Synthetic Voice</th>\n",
       "      <th>accuracy</th>\n",
       "      <th>macro avg</th>\n",
       "      <th>weighted avg</th>\n",
       "    </tr>\n",
       "  </thead>\n",
       "  <tbody>\n",
       "    <tr>\n",
       "      <th>precision</th>\n",
       "      <td>0.995449</td>\n",
       "      <td>0.984018</td>\n",
       "      <td>0.988304</td>\n",
       "      <td>0.989272</td>\n",
       "      <td>0.989257</td>\n",
       "      <td>0.989269</td>\n",
       "    </tr>\n",
       "    <tr>\n",
       "      <th>recall</th>\n",
       "      <td>0.996583</td>\n",
       "      <td>0.984018</td>\n",
       "      <td>0.987150</td>\n",
       "      <td>0.989272</td>\n",
       "      <td>0.989250</td>\n",
       "      <td>0.989272</td>\n",
       "    </tr>\n",
       "    <tr>\n",
       "      <th>f1-score</th>\n",
       "      <td>0.996016</td>\n",
       "      <td>0.984018</td>\n",
       "      <td>0.987726</td>\n",
       "      <td>0.989272</td>\n",
       "      <td>0.989254</td>\n",
       "      <td>0.989270</td>\n",
       "    </tr>\n",
       "    <tr>\n",
       "      <th>support</th>\n",
       "      <td>878.000000</td>\n",
       "      <td>876.000000</td>\n",
       "      <td>856.000000</td>\n",
       "      <td>0.989272</td>\n",
       "      <td>2610.000000</td>\n",
       "      <td>2610.000000</td>\n",
       "    </tr>\n",
       "  </tbody>\n",
       "</table>\n",
       "</div>"
      ],
      "text/plain": [
       "                Music      Speech  Synthetic Voice  accuracy    macro avg   \n",
       "precision    0.995449    0.984018         0.988304  0.989272     0.989257  \\\n",
       "recall       0.996583    0.984018         0.987150  0.989272     0.989250   \n",
       "f1-score     0.996016    0.984018         0.987726  0.989272     0.989254   \n",
       "support    878.000000  876.000000       856.000000  0.989272  2610.000000   \n",
       "\n",
       "           weighted avg  \n",
       "precision      0.989269  \n",
       "recall         0.989272  \n",
       "f1-score       0.989270  \n",
       "support     2610.000000  "
      ]
     },
     "metadata": {},
     "output_type": "display_data"
    },
    {
     "data": {
      "image/png": "[encoded data removed]",
      "text/plain": [
       "<Figure size 640x480 with 1 Axes>"
      ]
     },
     "metadata": {},
     "output_type": "display_data"
    }
   ],
   "source": [
    "display.display(pd.DataFrame(cr))\n",
    "df = pd.DataFrame(cr)\n",
    "df2 = df.rename({'0': 'Music', '1': 'Speech', '2': 'Synthetic Voice'}, axis=1)\n",
    "df2.iloc[:3, :3].T.plot(kind='bar')\n",
    "plt.title('Classification Report')\n",
    "plt.show()"
   ]
  },
  {
   "cell_type": "markdown",
   "id": "advanced-booth",
   "metadata": {},
   "source": [
    "### Testing Some Test Audio Data\n",
    "\n",
    "Steps\n",
    "- Preprocess the new audio data\n",
    "- predict the classes\n",
    "- Invere transform your Predicted Label"
   ]
  },
  {
   "cell_type": "code",
   "execution_count": 5,
   "id": "762158f2",
   "metadata": {},
   "outputs": [],
   "source": [
    "ac_model = load_model('ann_mfcc_3_classes.hdf5')"
   ]
  },
  {
   "cell_type": "markdown",
   "id": "9425a121",
   "metadata": {},
   "source": [
    "#### test on files in test folder"
   ]
  },
  {
   "cell_type": "code",
   "execution_count": 11,
   "id": "d130406b",
   "metadata": {},
   "outputs": [
    {
     "data": {
      "text/plain": [
       "LabelEncoder()"
      ]
     },
     "execution_count": 11,
     "metadata": {},
     "output_type": "execute_result"
    }
   ],
   "source": [
    "y = ['Music','Speech', 'Synthetic Voice']\n",
    "labelencoder=LabelEncoder()\n",
    "labelencoder.fit(y)"
   ]
  },
  {
   "cell_type": "markdown",
   "id": "1bf6fbba",
   "metadata": {},
   "source": [
    "#### test on single file"
   ]
  },
  {
   "cell_type": "markdown",
   "id": "73ca230b",
   "metadata": {},
   "source": [
    "- load audio file in librosa\n",
    "- calculate and scale mfcc\n",
    "- trained model predicts the features"
   ]
  },
  {
   "cell_type": "code",
   "execution_count": null,
   "id": "1c4b740d",
   "metadata": {},
   "outputs": [],
   "source": [
    "filename=r'C:\\Users\\seema1\\Desktop\\audio-classification\\audio_files\\test\\speech6.wav'\n",
    "audio, sample_rate = librosa.load(filename, sr=8000, res_type='kaiser_fast')\n",
    "mfccs_features = librosa.feature.mfcc(y=audio, sr=sample_rate, n_mfcc=50)\n",
    "mfccs_scaled_features = np.mean(mfccs_features.T,axis=0)\n",
    "mfccs_scaled_features=mfccs_scaled_features.reshape(1,-1)\n",
    "\n",
    "predicted_label=ac_model.predict(mfccs_scaled_features)\n",
    "classes_x=np.argmax(predicted_label,axis=1)\n",
    "prediction_class = labelencoder.inverse_transform(classes_x) \n",
    "print((prediction_class)) #np.array"
   ]
  },
  {
   "cell_type": "code",
   "execution_count": null,
   "id": "6fc5b827",
   "metadata": {},
   "outputs": [],
   "source": [
    "a=np.array_str(classes_x)\n",
    "print(len(a))"
   ]
  },
  {
   "cell_type": "code",
   "execution_count": null,
   "id": "ad55a3dc",
   "metadata": {},
   "outputs": [],
   "source": []
  }
 ],
 "metadata": {
  "kernelspec": {
   "display_name": "Python 3 (ipykernel)",
   "language": "python",
   "name": "python3"
  },
  "language_info": {
   "codemirror_mode": {
    "name": "ipython",
    "version": 3
   },
   "file_extension": ".py",
   "mimetype": "text/x-python",
   "name": "python",
   "nbconvert_exporter": "python",
   "pygments_lexer": "ipython3",
   "version": "3.9.18"
  }
 },
 "nbformat": 4,
 "nbformat_minor": 5
}
