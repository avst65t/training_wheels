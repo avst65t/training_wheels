{
 "cells": [
  {
   "cell_type": "markdown",
   "id": "17bf7563-4513-42cb-97c7-b5d87c98cff9",
   "metadata": {},
   "source": [
    "## GPT"
   ]
  },
  {
   "cell_type": "code",
   "execution_count": 1,
   "id": "7c70de5d-2ba4-4cde-aadd-81fd3e011088",
   "metadata": {},
   "outputs": [
    {
     "name": "stdout",
     "output_type": "stream",
     "text": [
      "[0, 1, 1, 2, 3]\n"
     ]
    }
   ],
   "source": [
    "def fibonacci_series(n):\n",
    "    series = []\n",
    "    a, b = 0, 1\n",
    "    for _ in range(n):\n",
    "        series.append(a)\n",
    "        a, b = b, a + b\n",
    "    return series\n",
    "\n",
    "# Generate the first 5 elements of the Fibonacci series\n",
    "fib_series = fibonacci_series(5)\n",
    "print(fib_series)"
   ]
  },
  {
   "cell_type": "markdown",
   "id": "b330681f-7b68-43a0-9768-26cac9e3a763",
   "metadata": {},
   "source": [
    "## LLM Agent"
   ]
  },
  {
   "cell_type": "code",
   "execution_count": 9,
   "id": "34231bef-06f8-424f-85e6-4dc34127629f",
   "metadata": {},
   "outputs": [],
   "source": [
    "# !pip install langchainhub"
   ]
  },
  {
   "cell_type": "code",
   "execution_count": 1,
   "id": "95e141fc-f0d6-42d3-b74b-13ebed3d0e4c",
   "metadata": {},
   "outputs": [],
   "source": [
    "from langchain_openai import ChatOpenAI\n",
    "from dotenv import load_dotenv\n",
    "import os\n",
    "from langchain_community.tools.tavily_search import TavilySearchResults\n",
    "from langchain.agents import create_tool_calling_agent\n",
    "from langchain import hub\n",
    "from langchain.agents import AgentExecutor"
   ]
  },
  {
   "cell_type": "code",
   "execution_count": 2,
   "id": "6a0cb0dd-ce9c-4acc-ad26-125bbd2de8bc",
   "metadata": {},
   "outputs": [],
   "source": [
    "load_dotenv()\n",
    "a=os.getenv('OPENAI_API_KEY')\n",
    "os.environ[\"OPENAI_API_KEY\"] = a\n",
    "os.environ[\"TAVILY_API_KEY\"] = os.getenv('TAVILY_API_KEY')\n",
    "\n",
    "llm = ChatOpenAI(model=\"gpt-3.5-turbo\", temperature=0)"
   ]
  },
  {
   "cell_type": "code",
   "execution_count": 5,
   "id": "2ce1fced-f213-4b1a-80e8-f1edde01ada9",
   "metadata": {},
   "outputs": [],
   "source": [
    "prompt = hub.pull(\"hwchase17/openai-functions-agent\")\n",
    "prompt.messages"
   ]
  },
  {
   "cell_type": "code",
   "execution_count": 4,
   "id": "39e7f9c4-eab6-437f-b202-8758b660fd1c",
   "metadata": {},
   "outputs": [],
   "source": [
    "search = TavilySearchResults()"
   ]
  },
  {
   "cell_type": "code",
   "execution_count": 31,
   "id": "0fa9eac7-fdae-44fb-b8a3-3a13dc33998a",
   "metadata": {},
   "outputs": [],
   "source": [
    "tools = [search]"
   ]
  },
  {
   "cell_type": "markdown",
   "id": "e7c74737-a14b-408c-bc90-860faa518e2a",
   "metadata": {},
   "source": [
    "## Agent Executor"
   ]
  },
  {
   "cell_type": "code",
   "execution_count": 32,
   "id": "129117fc-e567-4f2c-864a-3c227bba4626",
   "metadata": {},
   "outputs": [],
   "source": [
    "agent = create_tool_calling_agent(llm, tools, prompt)"
   ]
  },
  {
   "cell_type": "code",
   "execution_count": 33,
   "id": "cefccd3c-9406-4440-8709-be2c2fd5bac8",
   "metadata": {},
   "outputs": [],
   "source": [
    "agent_executor = AgentExecutor(agent=agent, tools=tools, verbose=True)"
   ]
  },
  {
   "cell_type": "code",
   "execution_count": 37,
   "id": "2ac014bc-f06f-4215-b7f1-b889980f92b9",
   "metadata": {},
   "outputs": [
    {
     "name": "stdout",
     "output_type": "stream",
     "text": [
      "\n",
      "\n",
      "\u001b[1m> Entering new AgentExecutor chain...\u001b[0m\n",
      "\u001b[32;1m\u001b[1;3mTo generate the Fibonacci series for 5 elements, we start with the first two numbers in the series as 0 and 1. Then, we calculate the next numbers by adding the previous two numbers. \n",
      "\n",
      "The Fibonacci series for 5 elements would be:\n",
      "0, 1, 1, 2, 3\n",
      "\n",
      "Here's the breakdown of how each number is calculated:\n",
      "- 0 (first number)\n",
      "- 1 (second number)\n",
      "- 0 + 1 = 1\n",
      "- 1 + 1 = 2\n",
      "- 1 + 2 = 3\n",
      "\n",
      "So, the Fibonacci series for 5 elements is 0, 1, 1, 2, 3.\u001b[0m\n",
      "\n",
      "\u001b[1m> Finished chain.\u001b[0m\n"
     ]
    }
   ],
   "source": [
    "res=agent_executor.invoke({\"input\": \"what is the output for fibonacci series for 5 elements. do not use any tool\"})"
   ]
  },
  {
   "cell_type": "code",
   "execution_count": 39,
   "id": "c1ebd5e8-94c9-4958-ab44-1b668f4ac051",
   "metadata": {},
   "outputs": [
    {
     "name": "stdout",
     "output_type": "stream",
     "text": [
      "To generate the Fibonacci series for 5 elements, we start with the first two numbers in the series as 0 and 1. Then, we calculate the next numbers by adding the previous two numbers. \n",
      "\n",
      "The Fibonacci series for 5 elements would be:\n",
      "0, 1, 1, 2, 3\n",
      "\n",
      "Here's the breakdown of how each number is calculated:\n",
      "- 0 (first number)\n",
      "- 1 (second number)\n",
      "- 0 + 1 = 1\n",
      "- 1 + 1 = 2\n",
      "- 1 + 2 = 3\n",
      "\n",
      "So, the Fibonacci series for 5 elements is 0, 1, 1, 2, 3.\n"
     ]
    }
   ],
   "source": [
    "print(res['output'])"
   ]
  },
  {
   "cell_type": "code",
   "execution_count": null,
   "id": "f6c51d58-0916-42a0-8cc8-04df830eede3",
   "metadata": {},
   "outputs": [],
   "source": []
  },
  {
   "cell_type": "code",
   "execution_count": null,
   "id": "25ca5bf0-fcf8-4989-b1de-14400c5cf2fe",
   "metadata": {},
   "outputs": [],
   "source": []
  }
 ],
 "metadata": {
  "kernelspec": {
   "display_name": "Python 3 (ipykernel)",
   "language": "python",
   "name": "python3"
  },
  "language_info": {
   "codemirror_mode": {
    "name": "ipython",
    "version": 3
   },
   "file_extension": ".py",
   "mimetype": "text/x-python",
   "name": "python",
   "nbconvert_exporter": "python",
   "pygments_lexer": "ipython3",
   "version": "3.11.9"
  }
 },
 "nbformat": 4,
 "nbformat_minor": 5
}
