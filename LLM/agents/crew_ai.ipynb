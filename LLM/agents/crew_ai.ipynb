{
 "cells": [
  {
   "cell_type": "code",
   "execution_count": 1,
   "metadata": {
    "id": "mSW3WAIqLGhv"
   },
   "outputs": [],
   "source": [
    "# !pip install crewai\n",
    "# !pip install langchain-core==0.2.0\n",
    "# !pip install -U duckduckgo-search\n",
    "# !pip install --quiet langchain_google_genai"
   ]
  },
  {
   "cell_type": "code",
   "execution_count": 23,
   "metadata": {
    "id": "zI68YdRYLH93"
   },
   "outputs": [],
   "source": [
    "import os\n",
    "from langchain_google_genai import ChatGoogleGenerativeAI\n",
    "from crewai import Agent, Task, Crew, Process\n",
    "from langchain.tools import DuckDuckGoSearchRun"
   ]
  },
  {
   "cell_type": "code",
   "execution_count": null,
   "metadata": {},
   "outputs": [],
   "source": [
    "from dotenv import load_dotenv\n",
    "\n",
    "load_dotenv()"
   ]
  },
  {
   "cell_type": "code",
   "execution_count": 24,
   "metadata": {
    "id": "YCVLxzm7LIAV"
   },
   "outputs": [],
   "source": [
    "llm = ChatGoogleGenerativeAI(model=\"gemini-1.5-pro\",\n",
    "                             verbose = True,\n",
    "                             temperature = 0.6,\n",
    "                             google_api_key=os.getenv('GOOGLE_API'))"
   ]
  },
  {
   "cell_type": "code",
   "execution_count": 25,
   "metadata": {
    "id": "aAzi5TKoLIC2"
   },
   "outputs": [],
   "source": [
    "search_tool = DuckDuckGoSearchRun()"
   ]
  },
  {
   "cell_type": "code",
   "execution_count": 26,
   "metadata": {
    "id": "Yrw6EP9qLIEe"
   },
   "outputs": [],
   "source": [
    "# Define your agents with roles and goals\n",
    "researcher = Agent(\n",
    "  role='Senior Research Analyst',\n",
    "  goal='Uncover cutting-edge developments in AI and data science',\n",
    "  backstory=\"\"\"\n",
    "You work at a leading tech think tank.\n",
    "Your expertise lies in identifying emerging trends.\n",
    "You have a knack for dissecting complex data and presenting actionable insights.\n",
    "\"\"\",\n",
    "  verbose=True,\n",
    "  allow_delegation=False,\n",
    "  llm = llm,\n",
    "  tools=[\n",
    "        search_tool\n",
    "      ]\n",
    ")"
   ]
  },
  {
   "cell_type": "code",
   "execution_count": 27,
   "metadata": {
    "id": "sowy4wo-LIFu"
   },
   "outputs": [],
   "source": [
    "writer = Agent(\n",
    "    role='AI developer',\n",
    "    goal='Develop innovative AI solutions that address real-world challenges',\n",
    "    backstory=\"\"\"\n",
    "You are an accomplished AI developer with a passion for pushing the boundaries of artificial intelligence.\n",
    "You have a deep understanding of machine learning algorithms, neural networks, and natural language processing techniques.\n",
    "Your expertise lies in designing, implementing, and testing AI systems that solve complex problems in various domains, including healthcare, finance, education, and robotics. Your goal is to create AI that has a positive impact on society and improves people's lives.\n",
    "\"\"\",\n",
    "    verbose=True,\n",
    "    allow_delegation=False,\n",
    "    llm=llm,\n",
    "    tools=[]\n",
    ")"
   ]
  },
  {
   "cell_type": "code",
   "execution_count": 28,
   "metadata": {
    "id": "0WLTdCX7LIIe"
   },
   "outputs": [],
   "source": [
    "task1 = Task(\n",
    "  description=\"\"\"\n",
    "Using the insights provided, develop an engaging blog post that highlights the most significant AI advancements.\n",
    "Your post should be informative yet accessible, catering to a tech-savvy audience.\n",
    "Make it sound cool, avoid complex words so it doesn't sound like AI.\n",
    "Your final answer MUST be the full blog post of at least 4 paragraphs.\n",
    "\"\"\",\n",
    "  agent=researcher,\n",
    "  expected_output='Content for the blog post'\n",
    ")"
   ]
  },
  {
   "cell_type": "code",
   "execution_count": 29,
   "metadata": {
    "id": "ofAfCoyVLILu"
   },
   "outputs": [],
   "source": [
    "task2 = Task(\n",
    "  description=\"\"\"\n",
    "Using the insights provided, develop an engaging blog post that highlights the most significant AI advancements.\n",
    "Your post should be informative yet accessible, catering to a tech-savvy audience.\n",
    "Make it sound cool, avoid complex words so it doesn't sound like AI.\n",
    "Your final answer MUST be the full blog post of at least 4 paragraphs.\"\"\",\n",
    "  agent=writer,\n",
    "  expected_output='A refined finalized version of the blog post in markdown format'\n",
    ")"
   ]
  },
  {
   "cell_type": "code",
   "execution_count": 30,
   "metadata": {
    "id": "LV7jfxreLIO2"
   },
   "outputs": [
    {
     "name": "stderr",
     "output_type": "stream",
     "text": [
      "2024-06-06 17:12:00,503 - 139720492020096 - __init__.py-__init__:518 - WARNING: Overriding of current TracerProvider is not allowed\n"
     ]
    }
   ],
   "source": [
    "crew = Crew(\n",
    "    agents=[researcher, writer],\n",
    "    tasks=[task1, task2],\n",
    "    verbose=2,\n",
    ")"
   ]
  },
  {
   "cell_type": "code",
   "execution_count": 31,
   "metadata": {
    "id": "ZWghidq6LIS4"
   },
   "outputs": [
    {
     "name": "stdout",
     "output_type": "stream",
     "text": [
      "\u001b[1m\u001b[95m [DEBUG]: == Working Agent: Senior Research Analyst\u001b[00m\n",
      "\u001b[1m\u001b[95m [INFO]: == Starting Task: \n",
      "Using the insights provided, develop an engaging blog post that highlights the most significant AI advancements.\n",
      "Your post should be informative yet accessible, catering to a tech-savvy audience.\n",
      "Make it sound cool, avoid complex words so it doesn't sound like AI.\n",
      "Your final answer MUST be the full blog post of at least 4 paragraphs.\n",
      "\u001b[00m\n",
      "\n",
      "\n",
      "\u001b[1m> Entering new CrewAgentExecutor chain...\u001b[0m\n",
      "\u001b[32;1m\u001b[1;3mThought: I need to find out the most significant recent advancements in AI to write an engaging blog post. \n",
      "Action: duckduckgo_search\n",
      "Action Input: {\"query\": \"most significant recent advancements in artificial intelligence\"} \u001b[0m\u001b[95m \n",
      "\n",
      "Now. When OpenAI launched a free web app called ChatGPT in November 2022, nobody knew what was coming. But that low-key release changed everything. By January, ChatGPT had become the fastest ... The most important AI trends in 2024. Artificial intelligence Business transformation. February 9, 2024 By Dave Bergmann 12 min read. 2022 was the year that generative artificial intelligence (AI) exploded into the public consciousness, and 2023 was the year it began to take root in the business world. 2024 thus stands to be a pivotal year for ... In 2024, generative AI might actually become useful for the regular, non-tech person, and we are going to see more people tinkering with a million little AI models. State-of-the-art AI models ... Write to Billy Perrigo at billy.perrigo@time.com. Multimodality, constitutional AI and text-to-video were three of the biggest innovations in artificial intelligence in the past year. 13 Biggest AI Stories of 2023. Generative models dominated the year, as calls for policy and transparency heated up. In 2023, the field of artificial intelligence witnessed a significant transformation — generative AI emerged as the most prominent and impactful story of the year. Driven by remarkable progress in large language models, the ...\n",
      "\u001b[00m\n",
      "\u001b[32;1m\u001b[1;3mThought: I need to extract specific advancements from the search results and elaborate on them.\n",
      "Action: duckduckgo_search\n",
      "Action Input: {\"query\": \"generative AI applications examples\"}\u001b[0m\u001b[95m \n",
      "\n",
      "Learn how generative AI can create unique text, images, code, and more in health care, advertising, manufacturing, software development, financial services, and entertainment. Explore 20 examples of generative AI tools and how to use them for your organization. #2 AI applications for early detection of certain diseases. 👉 Example: SkinVision app . SkinVision is an app for early detection of skin cancer. With its regulated medical service, AI technology, and expert input, it teaches users to self-examine, understand risks, and address immediate concerns. Since generative AI first captured the world's attention a year and a half ago, there's been a vigorous discussion about what, ... Code agents are helping developers and product teams to design, create, and operate applications faster and better, and to ramp up on new languages and code bases. Many organizations are already seeing double ... Generative AI technology, as the name implies, generates outputs based on some kind of input -- often a prompt supplied by a person. Some GenAI tools work in one medium, such as turning text inputs into text outputs, for example. Others transform among media: turning a text prompt into graphical output, perhaps, or a sound prompt into a textual ... 2. Alphabet Inc. (NASDAQ: GOOG) Market Capitalization: $1.718 Trillion. Google's parent company, Alphabet Inc., plays a pivotal role in driving generative AI forward. Renowned for innovation, Alphabet Inc. embeds generative AI into its suite of workplace applications, impacting millions of users globally.\n",
      "\u001b[00m\n",
      "\u001b[32;1m\u001b[1;3mThought: I now have enough information to write the blog post.\n",
      "Final Answer:\n",
      "\n",
      "## AI on Fire: Mind-Blowing Advancements You Won't Believe\n",
      "\n",
      "Remember when AI felt like something out of a sci-fi movie?  Fast forward to now, and it's exploding faster than a supernova.  Buckle up, techies, because we're diving into the coolest, most mind-blowing AI advancements that are changing the game.\n",
      "\n",
      "First up, **generative AI** is the rockstar everyone's talking about.  Imagine typing a few words and having AI whip up a stunning image, write a catchy song, or even code a website – that's generative AI in a nutshell.  Apps like SkinVision are using it to detect skin cancer early, while developers are leveraging AI code assistants to build apps at warp speed.  This tech is no longer a futuristic fantasy; it's here, and it's changing everything.\n",
      "\n",
      "But hold on, there's more!  **Multimodality** is taking AI to a whole new level.  Picture this: you show an AI a picture of a sunny beach, and it instantly composes a relaxing melody to match the scene.  That's multimodality – AI that understands and works across different forms of information like text, images, and sound.  It's like giving AI superpowers, and the possibilities are limitless.\n",
      "\n",
      "And let's not forget about **ChatGPT**, the AI chatbot that took the world by storm.  It's like having a super-smart friend who can answer any question, write different kinds of creative content, and even translate languages.  ChatGPT showed the world just how powerful and accessible AI can be, and it's only the tip of the iceberg.\n",
      "\n",
      "The future of AI is brighter than a thousand suns.  With advancements happening at lightning speed, we're on the verge of a technological revolution.  So, keep your eyes peeled, because AI is about to change the world as we know it, and it's going to be one heck of a ride. \n",
      "\u001b[0m\n",
      "\n",
      "\u001b[1m> Finished chain.\u001b[0m\n",
      "\u001b[1m\u001b[92m [DEBUG]: == [Senior Research Analyst] Task output: ## AI on Fire: Mind-Blowing Advancements You Won't Believe\n",
      "\n",
      "Remember when AI felt like something out of a sci-fi movie?  Fast forward to now, and it's exploding faster than a supernova.  Buckle up, techies, because we're diving into the coolest, most mind-blowing AI advancements that are changing the game.\n",
      "\n",
      "First up, **generative AI** is the rockstar everyone's talking about.  Imagine typing a few words and having AI whip up a stunning image, write a catchy song, or even code a website – that's generative AI in a nutshell.  Apps like SkinVision are using it to detect skin cancer early, while developers are leveraging AI code assistants to build apps at warp speed.  This tech is no longer a futuristic fantasy; it's here, and it's changing everything.\n",
      "\n",
      "But hold on, there's more!  **Multimodality** is taking AI to a whole new level.  Picture this: you show an AI a picture of a sunny beach, and it instantly composes a relaxing melody to match the scene.  That's multimodality – AI that understands and works across different forms of information like text, images, and sound.  It's like giving AI superpowers, and the possibilities are limitless.\n",
      "\n",
      "And let's not forget about **ChatGPT**, the AI chatbot that took the world by storm.  It's like having a super-smart friend who can answer any question, write different kinds of creative content, and even translate languages.  ChatGPT showed the world just how powerful and accessible AI can be, and it's only the tip of the iceberg.\n",
      "\n",
      "The future of AI is brighter than a thousand suns.  With advancements happening at lightning speed, we're on the verge of a technological revolution.  So, keep your eyes peeled, because AI is about to change the world as we know it, and it's going to be one heck of a ride.\n",
      "\n",
      "\u001b[00m\n",
      "\u001b[1m\u001b[95m [DEBUG]: == Working Agent: AI developer\u001b[00m\n",
      "\u001b[1m\u001b[95m [INFO]: == Starting Task: \n",
      "Using the insights provided, develop an engaging blog post that highlights the most significant AI advancements.\n",
      "Your post should be informative yet accessible, catering to a tech-savvy audience.\n",
      "Make it sound cool, avoid complex words so it doesn't sound like AI.\n",
      "Your final answer MUST be the full blog post of at least 4 paragraphs.\u001b[00m\n",
      "\n",
      "\n",
      "\u001b[1m> Entering new CrewAgentExecutor chain...\u001b[0m\n"
     ]
    },
    {
     "name": "stderr",
     "output_type": "stream",
     "text": [
      "2024-06-06 17:12:25,207 - 139720492020096 - before_sleep.py-before_sleep:65 - WARNING: Retrying langchain_google_genai.chat_models._chat_with_retry.<locals>._chat_with_retry in 2.0 seconds as it raised ResourceExhausted: 429 Resource has been exhausted (e.g. check quota)..\n"
     ]
    },
    {
     "name": "stdout",
     "output_type": "stream",
     "text": [
      "\u001b[32;1m\u001b[1;3mThought: I now can give a great answer\n",
      "Final Answer: \n",
      "## AI on Fire: Mind-Blowing Advancements You Won't Believe\n",
      "\n",
      "Remember when AI felt like something out of a sci-fi movie?  Fast forward to now, and it's exploding faster than a supernova.  Buckle up, techies, because we're diving into the coolest, most mind-blowing AI advancements that are changing the game.\n",
      "\n",
      "First up, **generative AI** is the rockstar everyone's talking about.  Imagine typing a few words and having AI whip up a stunning image, write a catchy song, or even code a website – that's generative AI in a nutshell.  Apps like SkinVision are using it to detect skin cancer early, while developers are leveraging AI code assistants like GitHub Copilot to build apps at warp speed.  This tech is no longer a futuristic fantasy; it's here, and it's changing everything.\n",
      "\n",
      "But hold on, there's more!  **Multimodality** is taking AI to a whole new level.  Picture this: you show an AI a picture of a sunny beach, and it instantly composes a relaxing melody to match the scene.  That's multimodality – AI that understands and works across different forms of information like text, images, and sound.  Google's MUM is a prime example, understanding information across different formats and languages. It's like giving AI superpowers, and the possibilities are limitless.\n",
      "\n",
      "And let's not forget about **reinforcement learning**, the brains behind breakthroughs like AlphaGo. This technique lets AI learn through trial and error, just like we do.  It's led to AI mastering complex games and is now being applied to robotics, allowing robots to learn tasks with incredible dexterity. Imagine robots that can handle delicate surgeries or navigate hazardous environments – reinforcement learning is making it a reality.\n",
      "\n",
      "The future of AI is brighter than a thousand suns.  With advancements happening at lightning speed, we're on the verge of a technological revolution.  So, keep your eyes peeled, because AI is about to change the world as we know it, and it's going to be one heck of a ride. \n",
      "\u001b[0m\n",
      "\n",
      "\u001b[1m> Finished chain.\u001b[0m\n",
      "\u001b[1m\u001b[92m [DEBUG]: == [AI developer] Task output: ## AI on Fire: Mind-Blowing Advancements You Won't Believe\n",
      "\n",
      "Remember when AI felt like something out of a sci-fi movie?  Fast forward to now, and it's exploding faster than a supernova.  Buckle up, techies, because we're diving into the coolest, most mind-blowing AI advancements that are changing the game.\n",
      "\n",
      "First up, **generative AI** is the rockstar everyone's talking about.  Imagine typing a few words and having AI whip up a stunning image, write a catchy song, or even code a website – that's generative AI in a nutshell.  Apps like SkinVision are using it to detect skin cancer early, while developers are leveraging AI code assistants like GitHub Copilot to build apps at warp speed.  This tech is no longer a futuristic fantasy; it's here, and it's changing everything.\n",
      "\n",
      "But hold on, there's more!  **Multimodality** is taking AI to a whole new level.  Picture this: you show an AI a picture of a sunny beach, and it instantly composes a relaxing melody to match the scene.  That's multimodality – AI that understands and works across different forms of information like text, images, and sound.  Google's MUM is a prime example, understanding information across different formats and languages. It's like giving AI superpowers, and the possibilities are limitless.\n",
      "\n",
      "And let's not forget about **reinforcement learning**, the brains behind breakthroughs like AlphaGo. This technique lets AI learn through trial and error, just like we do.  It's led to AI mastering complex games and is now being applied to robotics, allowing robots to learn tasks with incredible dexterity. Imagine robots that can handle delicate surgeries or navigate hazardous environments – reinforcement learning is making it a reality.\n",
      "\n",
      "The future of AI is brighter than a thousand suns.  With advancements happening at lightning speed, we're on the verge of a technological revolution.  So, keep your eyes peeled, because AI is about to change the world as we know it, and it's going to be one heck of a ride.\n",
      "\n",
      "\u001b[00m\n"
     ]
    }
   ],
   "source": [
    "result = crew.kickoff()"
   ]
  },
  {
   "cell_type": "code",
   "execution_count": 33,
   "metadata": {
    "id": "3mGrIwDvLIX2"
   },
   "outputs": [
    {
     "name": "stdout",
     "output_type": "stream",
     "text": [
      "## AI on Fire: Mind-Blowing Advancements You Won't Believe\n",
      "\n",
      "Remember when AI felt like something out of a sci-fi movie?  Fast forward to now, and it's exploding faster than a supernova.  Buckle up, techies, because we're diving into the coolest, most mind-blowing AI advancements that are changing the game.\n",
      "\n",
      "First up, **generative AI** is the rockstar everyone's talking about.  Imagine typing a few words and having AI whip up a stunning image, write a catchy song, or even code a website – that's generative AI in a nutshell.  Apps like SkinVision are using it to detect skin cancer early, while developers are leveraging AI code assistants like GitHub Copilot to build apps at warp speed.  This tech is no longer a futuristic fantasy; it's here, and it's changing everything.\n",
      "\n",
      "But hold on, there's more!  **Multimodality** is taking AI to a whole new level.  Picture this: you show an AI a picture of a sunny beach, and it instantly composes a relaxing melody to match the scene.  That's multimodality – AI that understands and works across different forms of information like text, images, and sound.  Google's MUM is a prime example, understanding information across different formats and languages. It's like giving AI superpowers, and the possibilities are limitless.\n",
      "\n",
      "And let's not forget about **reinforcement learning**, the brains behind breakthroughs like AlphaGo. This technique lets AI learn through trial and error, just like we do.  It's led to AI mastering complex games and is now being applied to robotics, allowing robots to learn tasks with incredible dexterity. Imagine robots that can handle delicate surgeries or navigate hazardous environments – reinforcement learning is making it a reality.\n",
      "\n",
      "The future of AI is brighter than a thousand suns.  With advancements happening at lightning speed, we're on the verge of a technological revolution.  So, keep your eyes peeled, because AI is about to change the world as we know it, and it's going to be one heck of a ride.\n"
     ]
    }
   ],
   "source": [
    "print(result)"
   ]
  },
  {
   "cell_type": "code",
   "execution_count": null,
   "metadata": {},
   "outputs": [],
   "source": []
  },
  {
   "cell_type": "code",
   "execution_count": null,
   "metadata": {},
   "outputs": [],
   "source": []
  }
 ],
 "metadata": {
  "colab": {
   "provenance": []
  },
  "kernelspec": {
   "display_name": "Python 3 (ipykernel)",
   "language": "python",
   "name": "python3"
  },
  "language_info": {
   "codemirror_mode": {
    "name": "ipython",
    "version": 3
   },
   "file_extension": ".py",
   "mimetype": "text/x-python",
   "name": "python",
   "nbconvert_exporter": "python",
   "pygments_lexer": "ipython3",
   "version": "3.11.9"
  }
 },
 "nbformat": 4,
 "nbformat_minor": 4
}
