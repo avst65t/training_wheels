{
 "cells": [
  {
   "cell_type": "markdown",
   "metadata": {},
   "source": [
    "#### Flatten a multidimensional list"
   ]
  },
  {
   "cell_type": "code",
   "execution_count": null,
   "metadata": {},
   "outputs": [],
   "source": [
    "a = [[1, 2], [[[[3, 4, 5], 6]]], '7', [8, [9, [10, 11], 12, [13, 14, [15, [[16, 17], 18]]]]]]\n",
    "l=[]\n",
    "\n",
    "def ls(x):\n",
    "    for j in x:\n",
    "        if isinstance(j, list):\n",
    "            ls(j)\n",
    "        else:\n",
    "            l.append(j)    \n",
    "\n",
    "ls(a)\n",
    "print(l)"
   ]
  },
  {
   "cell_type": "markdown",
   "metadata": {},
   "source": [
    "#### This problem was asked by YouTube. \n",
    "#### Write a program that computes the length of the longest common subsequence of three given strings. \n",
    "#### For example, given \"epidemiologist\", \"refrigeration\", and \"supercalifragilisticexpialodocious\", it should return 5, since the longest common subsequence is \"eieio\"."
   ]
  },
  {
   "cell_type": "code",
   "execution_count": 9,
   "metadata": {},
   "outputs": [
    {
     "name": "stdout",
     "output_type": "stream",
     "text": [
      "5\n"
     ]
    }
   ],
   "source": [
    "a=\"epidemiologist\" \n",
    "b=\"refrigeration\"\n",
    "c=\"supercalifragilisticexpialodocious\"\n",
    "count=0\n",
    "\n",
    "for i in a:\n",
    "    for j in b:\n",
    "        if i==j:\n",
    "            for k in c:\n",
    "                if i==k:\n",
    "                    x=b.index(j)\n",
    "                    y=c.index(k)\n",
    "                    b=b[x+1:]\n",
    "                    c=c[y+1:]\n",
    "                    count+=1\n",
    "                    break\n",
    "            break\n",
    "\n",
    "print(count)"
   ]
  },
  {
   "cell_type": "markdown",
   "metadata": {},
   "source": [
    "#### This problem was asked by Facebook.\n",
    "#### Given a multiset of integers, return whether it can be partitioned into two subsets whose sums are the same.\n",
    "#### For example, given the multiset {15, 5, 20, 10, 35, 15, 10}, it would return true, since we can split it up into {15, 5, 10, 15, 10} and {20, 35}, which both add up to 55.\n",
    "#### Given the multiset {15, 5, 20, 10, 35}, it would return false, since we can't split it up into two subsets that add up to the same sum."
   ]
  },
  {
   "cell_type": "code",
   "execution_count": 57,
   "metadata": {},
   "outputs": [
    {
     "name": "stdout",
     "output_type": "stream",
     "text": [
      "[35, 15, 5]\n",
      "[20, 10, 15, 10]\n"
     ]
    }
   ],
   "source": [
    "a=[15, 5, 20, 10, 35, 15, 10]\n",
    "# a=[15, 5, 20, 10, 35]\n",
    "c=0\n",
    "x=False\n",
    "\n",
    "for i in a:\n",
    "    c=c+i\n",
    "\n",
    "c=int(c/2)\n",
    "\n",
    "for j in range(len(a)):\n",
    "    l=[]\n",
    "    d=0\n",
    "    d=d+a[j]\n",
    "    l.append(a[j])\n",
    "    n=a.copy()\n",
    "    n.pop(j)\n",
    "    for k in n:\n",
    "        d=d+k\n",
    "        if d<c:\n",
    "            l.append(k)\n",
    "            continue\n",
    "        elif d==c:\n",
    "            l.append(k)\n",
    "            break\n",
    "        elif d>c:\n",
    "            d=d-k\n",
    "            continue\n",
    "\n",
    "    if sum(l)==c:\n",
    "        x=True\n",
    "        break\n",
    "\n",
    "if x:\n",
    "    print(l)\n",
    "    for i in l:\n",
    "        a.remove(i)\n",
    "\n",
    "    print(a)\n",
    "\n",
    "else:\n",
    "    print('not possible')"
   ]
  },
  {
   "cell_type": "markdown",
   "metadata": {},
   "source": [
    "Let A be an N by M matrix in which every row and every column is sorted.\n",
    "Given i1, j1, i2, and j2, compute the number of elements of M smaller than M[i1, j1] and larger than M[i2, j2].\n",
    "\n",
    "For example, given the following matrix:\n",
    "\n",
    "[[1, 3, 7, 10, 15, 20],\n",
    "[2, 6, 9, 14, 22, 25],\n",
    "[3, 8, 10, 15, 25, 30],\n",
    "[10, 11, 12, 23, 30, 35],\n",
    "[20, 25, 30, 35, 40, 45]]\n",
    "\n",
    "And i1 = 1, j1 = 1, i2 = 3, j2 = 3, return 15 as there are 15 numbers in the matrix smaller than 6 or \n",
    "greater than 23."
   ]
  },
  {
   "cell_type": "code",
   "execution_count": 9,
   "metadata": {},
   "outputs": [
    {
     "name": "stdout",
     "output_type": "stream",
     "text": [
      "15\n"
     ]
    }
   ],
   "source": [
    "a=[[1, 3, 7, 10, 15, 20],\n",
    "[2, 6, 9, 14, 22, 25],\n",
    "[3, 8, 10, 15, 25, 30],\n",
    "[10, 11, 12, 23, 30, 35],\n",
    "[20, 25, 30, 35, 40, 45]]\n",
    "\n",
    "count=1\n",
    "\n",
    "for i in a:\n",
    "    for j in i:\n",
    "        if j<a[1][1] or j>a[3][3]:\n",
    "            count+=1\n",
    "\n",
    "print(count)"
   ]
  },
  {
   "cell_type": "code",
   "execution_count": null,
   "metadata": {},
   "outputs": [],
   "source": []
  }
 ],
 "metadata": {
  "kernelspec": {
   "display_name": "en",
   "language": "python",
   "name": "python3"
  },
  "language_info": {
   "codemirror_mode": {
    "name": "ipython",
    "version": 3
   },
   "file_extension": ".py",
   "mimetype": "text/x-python",
   "name": "python",
   "nbconvert_exporter": "python",
   "pygments_lexer": "ipython3",
   "version": "3.12.3"
  }
 },
 "nbformat": 4,
 "nbformat_minor": 2
}
